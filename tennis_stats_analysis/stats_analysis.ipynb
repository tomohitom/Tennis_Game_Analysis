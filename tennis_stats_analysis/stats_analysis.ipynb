import csv
import pandas as pd
from jedi.api.refactoring import inline
from sklearn.linear_model import LinearRegression

df = pd.read_csv("game_stats.csv")
x_data = df.columns.values[0:4]
y = df["serve_keep"]

for i in x_data:
    X = [[a] for a in df[i]]

    model = LinearRegression()
    model.fit(X, y)
    %matplotlib inline
    import matplotlib.pyplot as plt

    plt.scatter(x_rm, y, color='blue')
    plt.plot(x_rm, model.predict(x_rm), color='red')
    import matplotlib.pyplot as plt

    plt.scatter(X, y, color='blue')
    plt.plot(X, model.predict(X), color='red')

    print(plt)