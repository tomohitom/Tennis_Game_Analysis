{
  "nbformat": 4,
  "nbformat_minor": 0,
  "metadata": {
    "colab": {
      "name": "stats_analysis.ipynb",
      "provenance": [],
      "collapsed_sections": [],
      "authorship_tag": "ABX9TyNQAN8siABJp+DzQm+f/NX2",
      "include_colab_link": true
    },
    "kernelspec": {
      "name": "python3",
      "display_name": "Python 3"
    }
  },
  "cells": [
    {
      "cell_type": "markdown",
      "metadata": {
        "id": "view-in-github",
        "colab_type": "text"
      },
      "source": [
        "<a href=\"https://colab.research.google.com/github/tomohitom/Tennis_Game_Analysis/blob/master/tennis_stats_analysis/stats_analysis.ipynb\" target=\"_parent\"><img src=\"https://colab.research.google.com/assets/colab-badge.svg\" alt=\"Open In Colab\"/></a>"
      ]
    },
    {
      "cell_type": "code",
      "metadata": {
        "id": "FL2ZNoHrmd93"
      },
      "source": [
        "import csv\n",
        "import pandas as pd\n",
        "import numpy as np\n",
        "import xgboost as xgb\n",
        "from sklearn.metrics import mean_squared_error\n",
        "import matplotlib.pyplot as plt\n",
        "from sklearn.model_selection import train_test_split\n",
        "\n",
        "df = pd.read_csv(\"sample_data/game_stats_2019.csv\")\n",
        "df = df.drop(df[df[\"serve_keep\"] > 100].index, axis = 0)\n",
        "df = df.drop(df[df[\"double_fault/serve_game\"] < 0].index, axis = 0)\n",
        "\n",
        "test_df = pd.read_csv(\"sample_data/game_stats_2021.csv\")\n",
        "test_df = test_df.drop(test_df[test_df[\"serve_keep\"] > 100].index, axis = 0)\n",
        "test_df = test_df.drop(test_df[test_df[\"double_fault/serve_game\"] < 0].index, axis = 0)\n",
        "\n",
        "col = ['1stserve_percentage', '1stserve_point_percentage', '2ndserve_point_percentage', '1stserve_point_percentage/serve_point', 'double_fault', 'double_fault/serve_game', 'serve_keep']\n",
        "\n",
        "serve_df = df[col]\n",
        "serve_test = test_df[col]"
      ],
      "execution_count": 9,
      "outputs": []
    },
    {
      "cell_type": "code",
      "metadata": {
        "id": "EoucNMj-I1aD",
        "colab": {
          "base_uri": "https://localhost:8080/"
        },
        "outputId": "fc891eba-4336-491e-afa6-7f9bc03fc222"
      },
      "source": [
        "serve_df.columns"
      ],
      "execution_count": null,
      "outputs": [
        {
          "output_type": "execute_result",
          "data": {
            "text/plain": [
              "Index(['1stserve_percentage', '1stserve_point_percentage',\n",
              "       '2ndserve_point_percentage', '1stserve_point_percentage/serve_point',\n",
              "       'double_fault', 'double_fault/serve_game', 'serve_keep'],\n",
              "      dtype='object')"
            ]
          },
          "metadata": {},
          "execution_count": 2
        }
      ]
    },
    {
      "cell_type": "code",
      "metadata": {
        "id": "A9Cs73aUKpQb",
        "colab": {
          "base_uri": "https://localhost:8080/"
        },
        "outputId": "232d43b6-242c-458d-9a7e-ee0c399ac37f"
      },
      "source": [
        "Xtest = serve_test.iloc[:, :-1]\n",
        "ytest = serve_test[\"serve_keep\"]\n",
        "ytest.shape"
      ],
      "execution_count": null,
      "outputs": [
        {
          "output_type": "execute_result",
          "data": {
            "text/plain": [
              "(251,)"
            ]
          },
          "metadata": {},
          "execution_count": 5
        }
      ]
    },
    {
      "cell_type": "code",
      "metadata": {
        "id": "CM7hQHQLKgq5",
        "colab": {
          "base_uri": "https://localhost:8080/"
        },
        "outputId": "191fc33b-f83a-455e-cced-0a554bdcd794"
      },
      "source": [
        "X = serve_df.iloc[:, :-1]\n",
        "y = serve_df[\"serve_keep\"]\n",
        "Xtest = serve_test.iloc[:, :-1]\n",
        "ytest = serve_test[\"serve_keep\"]\n",
        "\n",
        "dtrain = xgb.DMatrix(X, label=y)\n",
        "dtest = xgb.DMatrix(Xtest, label=ytest)\n",
        "\n",
        "params = {\"objective\": \"reg:squarederror\", \"silent\": 1, \"random_state\": 0}\n",
        "num_round = 50\n",
        "\n",
        "watchlist = [(dtrain, \"train\"), (dtest, \"eval\")]\n",
        "model = xgb.train(params, dtrain, num_round, evals=watchlist)\n",
        "\n",
        "y_pred = model.predict(dtest)\n",
        "score = np.sqrt(mean_squared_error(ytest, y_pred))\n",
        "print(score)"
      ],
      "execution_count": null,
      "outputs": [
        {
          "output_type": "stream",
          "name": "stdout",
          "text": [
            "[0]\ttrain-rmse:nan\teval-rmse:77.6521\n",
            "[1]\ttrain-rmse:nan\teval-rmse:77.6521\n",
            "[2]\ttrain-rmse:nan\teval-rmse:77.6521\n",
            "[3]\ttrain-rmse:nan\teval-rmse:77.6521\n",
            "[4]\ttrain-rmse:nan\teval-rmse:77.6521\n",
            "[5]\ttrain-rmse:nan\teval-rmse:77.6521\n",
            "[6]\ttrain-rmse:nan\teval-rmse:77.6521\n",
            "[7]\ttrain-rmse:nan\teval-rmse:77.6521\n",
            "[8]\ttrain-rmse:nan\teval-rmse:77.6521\n",
            "[9]\ttrain-rmse:nan\teval-rmse:77.6521\n",
            "[10]\ttrain-rmse:nan\teval-rmse:77.6521\n",
            "[11]\ttrain-rmse:nan\teval-rmse:77.6521\n",
            "[12]\ttrain-rmse:nan\teval-rmse:77.6521\n",
            "[13]\ttrain-rmse:nan\teval-rmse:77.6521\n",
            "[14]\ttrain-rmse:nan\teval-rmse:77.6521\n",
            "[15]\ttrain-rmse:nan\teval-rmse:77.6521\n",
            "[16]\ttrain-rmse:nan\teval-rmse:77.6521\n",
            "[17]\ttrain-rmse:nan\teval-rmse:77.6521\n",
            "[18]\ttrain-rmse:nan\teval-rmse:77.6521\n",
            "[19]\ttrain-rmse:nan\teval-rmse:77.6521\n",
            "[20]\ttrain-rmse:nan\teval-rmse:77.6521\n",
            "[21]\ttrain-rmse:nan\teval-rmse:77.6521\n",
            "[22]\ttrain-rmse:nan\teval-rmse:77.6521\n",
            "[23]\ttrain-rmse:nan\teval-rmse:77.6521\n",
            "[24]\ttrain-rmse:nan\teval-rmse:77.6521\n",
            "[25]\ttrain-rmse:nan\teval-rmse:77.6521\n",
            "[26]\ttrain-rmse:nan\teval-rmse:77.6521\n",
            "[27]\ttrain-rmse:nan\teval-rmse:77.6521\n",
            "[28]\ttrain-rmse:nan\teval-rmse:77.6521\n",
            "[29]\ttrain-rmse:nan\teval-rmse:77.6521\n",
            "[30]\ttrain-rmse:nan\teval-rmse:77.6521\n",
            "[31]\ttrain-rmse:nan\teval-rmse:77.6521\n",
            "[32]\ttrain-rmse:nan\teval-rmse:77.6521\n",
            "[33]\ttrain-rmse:nan\teval-rmse:77.6521\n",
            "[34]\ttrain-rmse:nan\teval-rmse:77.6521\n",
            "[35]\ttrain-rmse:nan\teval-rmse:77.6521\n",
            "[36]\ttrain-rmse:nan\teval-rmse:77.6521\n",
            "[37]\ttrain-rmse:nan\teval-rmse:77.6521\n",
            "[38]\ttrain-rmse:nan\teval-rmse:77.6521\n",
            "[39]\ttrain-rmse:nan\teval-rmse:77.6521\n",
            "[40]\ttrain-rmse:nan\teval-rmse:77.6521\n",
            "[41]\ttrain-rmse:nan\teval-rmse:77.6521\n",
            "[42]\ttrain-rmse:nan\teval-rmse:77.6521\n",
            "[43]\ttrain-rmse:nan\teval-rmse:77.6521\n",
            "[44]\ttrain-rmse:nan\teval-rmse:77.6521\n",
            "[45]\ttrain-rmse:nan\teval-rmse:77.6521\n",
            "[46]\ttrain-rmse:nan\teval-rmse:77.6521\n",
            "[47]\ttrain-rmse:nan\teval-rmse:77.6521\n",
            "[48]\ttrain-rmse:nan\teval-rmse:77.6521\n",
            "[49]\ttrain-rmse:nan\teval-rmse:77.6521\n",
            "77.65209055048783\n"
          ]
        }
      ]
    },
    {
      "cell_type": "markdown",
      "metadata": {
        "id": "jsbAi2uXKq0i"
      },
      "source": [
        "col = 77.6521"
      ]
    },
    {
      "cell_type": "code",
      "metadata": {
        "id": "atwFk3scUk1C",
        "colab": {
          "base_uri": "https://localhost:8080/",
          "height": 298
        },
        "outputId": "ed29a161-291c-4ffd-8d13-831f1b97fb33"
      },
      "source": [
        "serve_df.plot(kind = \"scatter\", x = \"double_fault/serve_game\", y = \"serve_keep\")"
      ],
      "execution_count": 10,
      "outputs": [
        {
          "output_type": "execute_result",
          "data": {
            "text/plain": [
              "<matplotlib.axes._subplots.AxesSubplot at 0x7fde5e786450>"
            ]
          },
          "metadata": {},
          "execution_count": 10
        },
        {
          "output_type": "display_data",
          "data": {
            "image/png": "[encoded data removed]",
            "text/plain": [
              "<Figure size 432x288 with 1 Axes>"
            ]
          },
          "metadata": {
            "needs_background": "light"
          }
        }
      ]
    },
    {
      "cell_type": "code",
      "metadata": {
        "id": "NK_2R2G6Mf1k",
        "colab": {
          "base_uri": "https://localhost:8080/"
        },
        "outputId": "c0719370-bfe3-49d7-b49c-252e81af87b0"
      },
      "source": [
        "#pd.set_option('display.max_columns', 50)\n",
        "se = serve_df.corr()[\"serve_keep\"]\n",
        "abs_cor = se.map(abs)\n",
        "abs_cor.sort_values(ascending = False)"
      ],
      "execution_count": 11,
      "outputs": [
        {
          "output_type": "execute_result",
          "data": {
            "text/plain": [
              "serve_keep                               1.000000\n",
              "1stserve_point_percentage                0.731591\n",
              "1stserve_point_percentage/serve_point    0.659251\n",
              "2ndserve_point_percentage                0.567973\n",
              "double_fault/serve_game                  0.243648\n",
              "1stserve_percentage                      0.187640\n",
              "double_fault                             0.120867\n",
              "Name: serve_keep, dtype: float64"
            ]
          },
          "metadata": {},
          "execution_count": 11
        }
      ]
    },
    {
      "cell_type": "markdown",
      "metadata": {
        "id": "ZBI_su4qNm0-"
      },
      "source": [
        "# 2019\n",
        "serve_keep                               1.000000\\\n",
        "1stserve_point_percentage                0.730752\\\n",
        "1stserve_point_percentage/serve_point    0.658666\\\n",
        "2ndserve_point_percentage                0.567857\\\n",
        "double_fault/serve_game                  0.243819\\\n",
        "1stserve_percentage                      0.187574\\\n",
        "double_fault                             0.120841\n",
        "\n",
        "# 2020\n",
        "serve_keep                               1.000000\\\n",
        "1stserve_point_percentage                0.741490\\\n",
        "1stserve_point_percentage/serve_point    0.676613\\\n",
        "2ndserve_point_percentage                0.570349\\\n",
        "double_fault/serve_game                  0.225704\\\n",
        "1stserve_percentage                      0.166120\\\n",
        "double_fault                             0.124917\n",
        "\n",
        "# 2021\n",
        "serve_keep                               1.000000\\\n",
        "1stserve_point_percentage                0.776952\\\n",
        "1stserve_point_percentage/serve_point    0.719574\\\n",
        "2ndserve_point_percentage                0.477242\\\n",
        "double_fault/serve_game                  0.284061\\\n",
        "1stserve_percentage                      0.222858\\\n",
        "double_fault                             0.131282\n"
      ]
    },
    {
      "cell_type": "code",
      "metadata": {
        "id": "vdlnyXCvNHWr",
        "colab": {
          "base_uri": "https://localhost:8080/"
        },
        "outputId": "1e46e32b-dbd3-4167-dbe9-15d46fec1b7e"
      },
      "source": [
        "col2 = ['1stserve_percentage', '1stserve_point_percentage', '1stserve_point_percentage/serve_point', 'point_percentage']\n",
        "X2 = df[col2]\n",
        "\n",
        "X2_train, X2_test, y2_train, y2_test = train_test_split(X2, y, test_size = 0.2, random_state = 0)\n",
        "\n",
        "model2 = LinearRegression()\n",
        "model2.fit(X2_train, y2_train)\n",
        "model2.score(X2_test, y2_test)"
      ],
      "execution_count": null,
      "outputs": [
        {
          "output_type": "execute_result",
          "data": {
            "text/plain": [
              "0.6781818096969363"
            ]
          },
          "metadata": {
            "tags": []
          },
          "execution_count": 7
        }
      ]
    },
    {
      "cell_type": "code",
      "metadata": {
        "id": "csRERmr-lsto",
        "colab": {
          "base_uri": "https://localhost:8080/"
        },
        "outputId": "c0e05b31-1202-41df-a0bd-538d988152bf"
      },
      "source": [
        "X2[\"double_fault/serve_game2\"] = df[\"double_fault/serve_game\"] ** 2\n",
        "\n",
        "X2_train, X2_test, y2_train, y2_test = train_test_split(X2, y, test_size = 0.2, random_state = 0)\n",
        "\n",
        "model2 = LinearRegression()\n",
        "model2.fit(X2_train, y2_train)\n",
        "model2.score(X2_test, y2_test)"
      ],
      "execution_count": null,
      "outputs": [
        {
          "output_type": "stream",
          "text": [
            "/usr/local/lib/python3.7/dist-packages/ipykernel_launcher.py:1: SettingWithCopyWarning: \n",
            "A value is trying to be set on a copy of a slice from a DataFrame.\n",
            "Try using .loc[row_indexer,col_indexer] = value instead\n",
            "\n",
            "See the caveats in the documentation: https://pandas.pydata.org/pandas-docs/stable/user_guide/indexing.html#returning-a-view-versus-a-copy\n",
            "  \"\"\"Entry point for launching an IPython kernel.\n"
          ],
          "name": "stderr"
        },
        {
          "output_type": "execute_result",
          "data": {
            "text/plain": [
              "0.671393451962525"
            ]
          },
          "metadata": {
            "tags": []
          },
          "execution_count": 8
        }
      ]
    },
    {
      "cell_type": "code",
      "metadata": {
        "id": "pV02Fhw9rYiN",
        "colab": {
          "base_uri": "https://localhost:8080/"
        },
        "outputId": "5044e826-8c2a-4ef6-f590-1926e6869e61"
      },
      "source": [
        "X2[\"1st + 2nd\"] = df[\"1stserve_point_percentage\"] + df[\"2ndserve_point_percentage\"]\n",
        "\n",
        "X2_train, X2_test, y2_train, y2_test = train_test_split(X2, y, test_size = 0.2, random_state = 0)\n",
        "\n",
        "model2 = LinearRegression()\n",
        "model2.fit(X2_train, y2_train)\n",
        "model2.score(X2_test, y2_test)"
      ],
      "execution_count": null,
      "outputs": [
        {
          "output_type": "stream",
          "text": [
            "/usr/local/lib/python3.7/dist-packages/ipykernel_launcher.py:1: SettingWithCopyWarning: \n",
            "A value is trying to be set on a copy of a slice from a DataFrame.\n",
            "Try using .loc[row_indexer,col_indexer] = value instead\n",
            "\n",
            "See the caveats in the documentation: https://pandas.pydata.org/pandas-docs/stable/user_guide/indexing.html#returning-a-view-versus-a-copy\n",
            "  \"\"\"Entry point for launching an IPython kernel.\n"
          ],
          "name": "stderr"
        },
        {
          "output_type": "execute_result",
          "data": {
            "text/plain": [
              "0.7506963162948068"
            ]
          },
          "metadata": {
            "tags": []
          },
          "execution_count": 9
        }
      ]
    },
    {
      "cell_type": "code",
      "metadata": {
        "id": "8AKAkcFRr71f",
        "colab": {
          "base_uri": "https://localhost:8080/",
          "height": 560
        },
        "outputId": "3c855aa5-bcce-41dd-dd34-e9197b4aceb1"
      },
      "source": [
        "df[\"1st + 2nd\"] = (df[\"1stserve_point_percentage\"] + df[\"2ndserve_point_percentage\"]) / 2\n",
        "df[\"double_fault/serve_game2\"] = df[\"double_fault/serve_game\"] ** 2\n",
        "df.plot(kind = \"scatter\", x = \"1st + 2nd\", y = \"serve_keep\")\n",
        "df.plot(kind = \"scatter\", x = \"double_fault/serve_game2\", y = \"serve_keep\")"
      ],
      "execution_count": null,
      "outputs": [
        {
          "output_type": "execute_result",
          "data": {
            "text/plain": [
              "<matplotlib.axes._subplots.AxesSubplot at 0x7f3640bc6410>"
            ]
          },
          "metadata": {
            "tags": []
          },
          "execution_count": 10
        },
        {
          "output_type": "display_data",
          "data": {
            "image/png": "[encoded data removed]",
            "text/plain": [
              "<Figure size 432x288 with 1 Axes>"
            ]
          },
          "metadata": {
            "tags": [],
            "needs_background": "light"
          }
        },
        {
          "output_type": "display_data",
          "data": {
            "image/png": "[encoded data removed]",
            "text/plain": [
              "<Figure size 432x288 with 1 Axes>"
            ]
          },
          "metadata": {
            "tags": [],
            "needs_background": "light"
          }
        }
      ]
    },
    {
      "cell_type": "code",
      "metadata": {
        "id": "pllpkpV77eMI",
        "colab": {
          "base_uri": "https://localhost:8080/"
        },
        "outputId": "f5b9689c-274f-4915-d571-3c50caf36123"
      },
      "source": [
        "se = df.corr()[\"serve_keep\"]\n",
        "abs_cor = se.map(abs)\n",
        "abs_cor.sort_values(ascending = False)"
      ],
      "execution_count": null,
      "outputs": [
        {
          "output_type": "execute_result",
          "data": {
            "text/plain": [
              "serve_keep                               1.000000\n",
              "1st + 2nd                                0.811302\n",
              "1stserve_point_percentage                0.730175\n",
              "point_percentage                         0.728984\n",
              "1stserve_point_percentage/serve_point    0.658278\n",
              "set_result                               0.615956\n",
              "2ndserve_point_percentage                0.570185\n",
              "point                                    0.562465\n",
              "game_streak                              0.417018\n",
              "point_streak                             0.350855\n",
              "ace                                      0.331543\n",
              "double_fault/serve_game                  0.244077\n",
              "ace/point                                0.203667\n",
              "1stserve_percentage                      0.187504\n",
              "double_fault/serve_game2                 0.161452\n",
              "double_fault                             0.121396\n",
              "Name: serve_keep, dtype: float64"
            ]
          },
          "metadata": {
            "tags": []
          },
          "execution_count": 11
        }
      ]
    },
    {
      "cell_type": "code",
      "metadata": {
        "id": "WQatmwfa8YG2",
        "colab": {
          "base_uri": "https://localhost:8080/"
        },
        "outputId": "7422edd8-02d6-43aa-ddb3-94b9136f7c9e"
      },
      "source": [
        "col3 = ['1stserve_percentage', '1stserve_point_percentage', '1stserve_point_percentage/serve_point', 'point_percentage', \"1st + 2nd\", \"double_fault/serve_game\"]\n",
        "X3 = df[col3]\n",
        "\n",
        "X3_train, X3_test, y3_train, y3_test = train_test_split(X3, y, test_size = 0.2, random_state = 0)\n",
        "\n",
        "model3 = LinearRegression()\n",
        "model3.fit(X3_train, y3_train)\n",
        "model3.score(X3_test, y3_test)"
      ],
      "execution_count": null,
      "outputs": [
        {
          "output_type": "execute_result",
          "data": {
            "text/plain": [
              "0.7520723305361079"
            ]
          },
          "metadata": {
            "tags": []
          },
          "execution_count": 12
        }
      ]
    },
    {
      "cell_type": "code",
      "metadata": {
        "id": "SkBkyOT2Tizt",
        "colab": {
          "base_uri": "https://localhost:8080/"
        },
        "outputId": "d08c556b-244a-4a43-af2a-586d81084adc"
      },
      "source": [
        "df.columns"
      ],
      "execution_count": null,
      "outputs": [
        {
          "output_type": "execute_result",
          "data": {
            "text/plain": [
              "Index(['1stserve_percentage', '1stserve_point_percentage',\n",
              "       '2ndserve_point_percentage', '1stserve_point_percentage/serve_point',\n",
              "       'double_fault', 'double_fault/serve_game', 'serve_keep', 'point',\n",
              "       'point_percentage', 'ace', 'ace/point', 'game_streak', 'point_streak',\n",
              "       'set_result', 'Unnamed: 14', '1st + 2nd', 'double_fault/serve_game2'],\n",
              "      dtype='object')"
            ]
          },
          "metadata": {
            "tags": []
          },
          "execution_count": 13
        }
      ]
    },
    {
      "cell_type": "code",
      "metadata": {
        "id": "v2W2LYOyTrjs",
        "colab": {
          "base_uri": "https://localhost:8080/"
        },
        "outputId": "f83f8832-bdda-4650-d573-012b32b29991"
      },
      "source": [
        "col4 = ['1stserve_percentage', '1stserve_point_percentage', '2ndserve_point_percentage', '1stserve_point_percentage/serve_point', 'double_fault', 'double_fault/serve_game', 'point', 'point_percentage', 'ace', 'ace/point', 'game_streak', 'point_streak', '1st + 2nd', 'double_fault/serve_game2']\n",
        "X4 = df[col4]\n",
        "\n",
        "X4_train, X4_test, y4_train, y4_test = train_test_split(X4, y, test_size = 0.2, random_state = 0)\n",
        "\n",
        "model4 = LinearRegression()\n",
        "model4.fit(X4_train, y4_train)\n",
        "model4.score(X4_test, y4_test)"
      ],
      "execution_count": null,
      "outputs": [
        {
          "output_type": "execute_result",
          "data": {
            "text/plain": [
              "0.8084066516488295"
            ]
          },
          "metadata": {
            "tags": []
          },
          "execution_count": 14
        }
      ]
    },
    {
      "cell_type": "code",
      "metadata": {
        "id": "uTlTGkseM_Jg",
        "colab": {
          "base_uri": "https://localhost:8080/"
        },
        "outputId": "faf61fe2-5fb9-4b71-f965-598b5c17cbac"
      },
      "source": [
        "from sklearn.ensemble import RandomForestRegressor\n",
        "model4b = RandomForestRegressor()\n",
        "model4b.fit(X4_train, y4_train)\n",
        "model4b.score(X4_test, y4_test)"
      ],
      "execution_count": null,
      "outputs": [
        {
          "output_type": "execute_result",
          "data": {
            "text/plain": [
              "0.9249393383351735"
            ]
          },
          "metadata": {
            "tags": []
          },
          "execution_count": 27
        }
      ]
    },
    {
      "cell_type": "code",
      "metadata": {
        "id": "pQzSmHu-OOm_",
        "colab": {
          "base_uri": "https://localhost:8080/",
          "height": 282
        },
        "outputId": "da0c7f29-91d7-475e-afc9-ae140d6040a4"
      },
      "source": [
        "plt.barh(col4, model4b.feature_importances_)"
      ],
      "execution_count": null,
      "outputs": [
        {
          "output_type": "execute_result",
          "data": {
            "text/plain": [
              "<BarContainer object of 14 artists>"
            ]
          },
          "metadata": {
            "tags": []
          },
          "execution_count": 28
        },
        {
          "output_type": "display_data",
          "data": {
            "image/png": "[encoded data removed]",
            "text/plain": [
              "<Figure size 432x288 with 1 Axes>"
            ]
          },
          "metadata": {
            "tags": [],
            "needs_background": "light"
          }
        }
      ]
    },
    {
      "cell_type": "code",
      "metadata": {
        "id": "YN6SBeh3Fbz6",
        "colab": {
          "base_uri": "https://localhost:8080/"
        },
        "outputId": "918eedc8-6cf9-4961-fbd7-dee59ba44dd3"
      },
      "source": [
        "df.columns"
      ],
      "execution_count": null,
      "outputs": [
        {
          "output_type": "execute_result",
          "data": {
            "text/plain": [
              "Index(['1stserve_percentage', '1stserve_point_percentage',\n",
              "       '2ndserve_point_percentage', '1stserve_point_percentage/serve_point',\n",
              "       'double_fault', 'double_fault/serve_game', 'serve_keep', 'point',\n",
              "       'point_percentage', 'ace', 'ace/point', 'game_streak', 'point_streak',\n",
              "       'set_result', 'Unnamed: 14', '1st + 2nd', 'double_fault/serve_game2'],\n",
              "      dtype='object')"
            ]
          },
          "metadata": {
            "tags": []
          },
          "execution_count": 16
        }
      ]
    },
    {
      "cell_type": "code",
      "metadata": {
        "id": "KqMgCrK2Cz-R",
        "colab": {
          "base_uri": "https://localhost:8080/"
        },
        "outputId": "19d5f0c9-bebe-4123-e1b9-ae8cb8096f0b"
      },
      "source": [
        "from sklearn.ensemble import RandomForestClassifier\n",
        "from sklearn.metrics import accuracy_score\n",
        "\n",
        "data_col = ['1stserve_percentage', '1stserve_point_percentage',\n",
        "       '2ndserve_point_percentage', '1stserve_point_percentage/serve_point',\n",
        "       'double_fault', 'double_fault/serve_game', 'serve_keep', 'point',\n",
        "       'point_percentage', 'ace', 'ace/point', 'game_streak', 'point_streak',\n",
        "       '1st + 2nd', 'double_fault/serve_game2']\n",
        "X5 = df[data_col]\n",
        "y2 = df['set_result']\n",
        "\n",
        "X5_train, X5_test, y5_train, y5_test = train_test_split(X5, y2, test_size=0.2, random_state=0)\n",
        "\n",
        "model5 = RandomForestClassifier()\n",
        "model5.fit(X5_train, y5_train)\n",
        "y_pred = model5.predict(X5_test)\n",
        "print(accuracy_score(y_pred, y5_test))"
      ],
      "execution_count": null,
      "outputs": [
        {
          "output_type": "stream",
          "text": [
            "0.983704974271012\n"
          ],
          "name": "stdout"
        }
      ]
    },
    {
      "cell_type": "code",
      "metadata": {
        "id": "aIXr6uVnKESW",
        "colab": {
          "base_uri": "https://localhost:8080/",
          "height": 282
        },
        "outputId": "f335f297-c8ea-4208-dffb-1ff7b514c73d"
      },
      "source": [
        "plt.barh(data_col, model5.feature_importances_)"
      ],
      "execution_count": null,
      "outputs": [
        {
          "output_type": "execute_result",
          "data": {
            "text/plain": [
              "<BarContainer object of 15 artists>"
            ]
          },
          "metadata": {
            "tags": []
          },
          "execution_count": 26
        },
        {
          "output_type": "display_data",
          "data": {
            "image/png": "[encoded data removed]",
            "text/plain": [
              "<Figure size 432x288 with 1 Axes>"
            ]
          },
          "metadata": {
            "tags": [],
            "needs_background": "light"
          }
        }
      ]
    }
  ]
}