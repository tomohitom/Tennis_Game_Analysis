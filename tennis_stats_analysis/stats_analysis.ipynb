{
  "nbformat": 4,
  "nbformat_minor": 0,
  "metadata": {
    "colab": {
      "name": "stats_analysis.ipynb",
      "provenance": [],
      "collapsed_sections": [],
      "authorship_tag": "ABX9TyNMfa88JmbIUPD4M8wexzdg",
      "include_colab_link": true
    },
    "kernelspec": {
      "name": "python3",
      "display_name": "Python 3"
    }
  },
  "cells": [
    {
      "cell_type": "markdown",
      "metadata": {
        "id": "view-in-github",
        "colab_type": "text"
      },
      "source": [
        "<a href=\"https://colab.research.google.com/github/tomohitom/Tennis_Game_Analysis/blob/master/tennis_stats_analysis/stats_analysis.ipynb\" target=\"_parent\"><img src=\"https://colab.research.google.com/assets/colab-badge.svg\" alt=\"Open In Colab\"/></a>"
      ]
    },
    {
      "cell_type": "code",
      "metadata": {
        "colab": {
          "base_uri": "https://localhost:8080/",
          "height": 136
        },
        "id": "FL2ZNoHrmd93",
        "outputId": "65ac6ce3-908b-48ac-88c6-0a71fe6e86a2"
      },
      "source": [
        "import csv\r\n",
        "import pandas as pd\r\n",
        "from sklearn.linear_model import LinearRegression\r\n",
        "import matplotlib.pyplot as plt\r\n",
        "\r\n",
        "df = pd.read_csv(\"sample_data/game_stats.csv\")\r\n",
        "x_data = df.columns.values[0:4]\r\n",
        "y = df[\"serve_keep\"]\r\n",
        "\r\n",
        "for i in range(len(x_data)):\r\n",
        "    plt.subplot(len(x_data), 1, i+1)\r\n",
        "  \r\n",
        "    X = [[a] for a in df[x_data[i]]\r\n",
        "\r\n",
        "    model = LinearRegression()\r\n",
        "    model.fit(X, y)\r\n",
        "\r\n",
        "    %matplotlib inline\r\n",
        "    plt.subplot(len(x_data), 1, i + 1)\r\n",
        "    plt.title(x_data[i])\r\n",
        "    plt.scatter(X, y, color='blue')\r\n",
        "    plt.plot(X, model.predict(X), color='red')\r\n",
        "  \r\n",
        "plt.tight_layout()"
      ],
      "execution_count": 11,
      "outputs": [
        {
          "output_type": "error",
          "ename": "SyntaxError",
          "evalue": "ignored",
          "traceback": [
            "\u001b[0;36m  File \u001b[0;32m\"<ipython-input-11-d2edf5e67f73>\"\u001b[0;36m, line \u001b[0;32m15\u001b[0m\n\u001b[0;31m    model = LinearRegression()\u001b[0m\n\u001b[0m        ^\u001b[0m\n\u001b[0;31mSyntaxError\u001b[0m\u001b[0;31m:\u001b[0m invalid syntax\n"
          ]
        }
      ]
    }
  ]
}