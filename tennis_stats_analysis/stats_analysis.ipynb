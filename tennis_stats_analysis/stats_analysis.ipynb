{
  "nbformat": 4,
  "nbformat_minor": 0,
  "metadata": {
    "colab": {
      "name": "stats_analysis.ipynb",
      "provenance": [],
      "collapsed_sections": [],
      "authorship_tag": "ABX9TyO6kN+DXxDHNR2AUfjQQn0o",
      "include_colab_link": true
    },
    "kernelspec": {
      "name": "python3",
      "display_name": "Python 3"
    }
  },
  "cells": [
    {
      "cell_type": "markdown",
      "metadata": {
        "id": "view-in-github",
        "colab_type": "text"
      },
      "source": [
        "<a href=\"https://colab.research.google.com/github/tomohitom/Tennis_Game_Analysis/blob/master/tennis_stats_analysis/stats_analysis.ipynb\" target=\"_parent\"><img src=\"https://colab.research.google.com/assets/colab-badge.svg\" alt=\"Open In Colab\"/></a>"
      ]
    },
    {
      "cell_type": "code",
      "metadata": {
        "colab": {
          "base_uri": "https://localhost:8080/",
          "height": 265
        },
        "id": "FL2ZNoHrmd93",
        "outputId": "fa175a39-6458-406e-c2a7-91db05dce11f"
      },
      "source": [
        "import csv\r\n",
        "import pandas as pd\r\n",
        "from sklearn.linear_model import LinearRegression\r\n",
        "\r\n",
        "df = pd.read_csv(\"sample_data/game_stats.csv\")\r\n",
        "x_data = df.columns.values[0:4]\r\n",
        "y = df[\"serve_keep\"]\r\n",
        "\r\n",
        "for i in x_data:\r\n",
        "    X = [[a] for a in df[i]]\r\n",
        "\r\n",
        "    model = LinearRegression()\r\n",
        "    model.fit(X, y)\r\n",
        "    %matplotlib inline\r\n",
        "    import matplotlib.pyplot as plt\r\n",
        "\r\n",
        "    plt.scatter(X, y, color='blue')\r\n",
        "    plt.plot(X, model.predict(X), color='red')\r\n",
        "    import matplotlib.pyplot as plt\r\n",
        "\r\n",
        "    plt.scatter(X, y, color='blue')\r\n",
        "    plt.plot(X, model.predict(X), color='red')"
      ],
      "execution_count": 5,
      "outputs": [
        {
          "output_type": "display_data",
          "data": {
            "image/png": "[encoded data removed]",
            "text/plain": [
              "<Figure size 432x288 with 1 Axes>"
            ]
          },
          "metadata": {
            "tags": [],
            "needs_background": "light"
          }
        }
      ]
    }
  ]
}