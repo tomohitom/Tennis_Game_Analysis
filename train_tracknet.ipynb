{
  "nbformat": 4,
  "nbformat_minor": 0,
  "metadata": {
    "colab": {
      "name": "train_tracknet.ipynb",
      "provenance": [],
      "mount_file_id": "1peOQjGohK8fqEakC8USDBDqssEvg-J5k",
      "authorship_tag": "ABX9TyNyNUt78IltC1czKLDsT7k4",
      "include_colab_link": true
    },
    "kernelspec": {
      "name": "python3",
      "display_name": "Python 3"
    },
    "language_info": {
      "name": "python"
    }
  },
  "cells": [
    {
      "cell_type": "markdown",
      "metadata": {
        "id": "view-in-github",
        "colab_type": "text"
      },
      "source": [
        "<a href=\"https://colab.research.google.com/github/tomohitom/Tennis_Game_Analysis/blob/master/train_tracknet.ipynb\" target=\"_parent\"><img src=\"https://colab.research.google.com/assets/colab-badge.svg\" alt=\"Open In Colab\"/></a>"
      ]
    },
    {
      "cell_type": "code",
      "metadata": {
        "colab": {
          "base_uri": "https://localhost:8080/"
        },
        "id": "k62la_TV4t5P",
        "outputId": "503a7058-c8c2-4cfd-af9e-94deb1d85443"
      },
      "source": [
        "%cd drive/MyDrive/tennis_video_tracking_system/TrackNet"
      ],
      "execution_count": 2,
      "outputs": [
        {
          "output_type": "stream",
          "name": "stdout",
          "text": [
            "/content/drive/MyDrive/tennis_video_tracking_system/TrackNet\n"
          ]
        }
      ]
    },
    {
      "cell_type": "code",
      "metadata": {
        "colab": {
          "base_uri": "https://localhost:8080/"
        },
        "id": "TgFnxk_H3gr_",
        "outputId": "478aa863-0b6e-4583-a2f5-5848da5bf43a"
      },
      "source": [
        "!python train.py --save_weights_path=weights/model --training_images_name=\"training_model1.csv\" --epochs=500 --n_classes=256 --input_height=360 --input_width=640 --load_weights=1 --step_per_epochs=200 --batch_size=2"
      ],
      "execution_count": 3,
      "outputs": [
        {
          "output_type": "stream",
          "name": "stdout",
          "text": [
            "^C\n"
          ]
        }
      ]
    }
  ]
}