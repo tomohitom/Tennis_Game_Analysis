{
  "nbformat": 4,
  "nbformat_minor": 0,
  "metadata": {
    "colab": {
      "name": "Openpose.ipynb",
      "provenance": [],
      "collapsed_sections": [],
      "authorship_tag": "ABX9TyMJknrmkaOBWbgbTfmTw3if",
      "include_colab_link": true
    },
    "kernelspec": {
      "name": "python3",
      "display_name": "Python 3"
    },
    "language_info": {
      "name": "python"
    }
  },
  "cells": [
    {
      "cell_type": "markdown",
      "metadata": {
        "id": "view-in-github",
        "colab_type": "text"
      },
      "source": [
        "<a href=\"https://colab.research.google.com/github/tomohitom/Tennis_Game_Analysis/blob/master/Openpose.ipynb\" target=\"_parent\"><img src=\"https://colab.research.google.com/assets/colab-badge.svg\" alt=\"Open In Colab\"/></a>"
      ]
    },
    {
      "cell_type": "code",
      "metadata": {
        "colab": {
          "base_uri": "https://localhost:8080/"
        },
        "id": "a_l0MJA_sRmU",
        "outputId": "399ab81b-21b2-44f3-87f4-a820144198e0"
      },
      "source": [
        "!git clone \"https://github.com/YutaroOgawa/pytorch_advanced.git\""
      ],
      "execution_count": null,
      "outputs": [
        {
          "output_type": "stream",
          "text": [
            "Cloning into 'pytorch_advanced'...\n",
            "remote: Enumerating objects: 529, done.\u001b[K\n",
            "remote: Counting objects: 100% (50/50), done.\u001b[K\n",
            "remote: Compressing objects: 100% (37/37), done.\u001b[K\n",
            "remote: Total 529 (delta 23), reused 32 (delta 13), pack-reused 479\u001b[K\n",
            "Receiving objects: 100% (529/529), 17.57 MiB | 29.94 MiB/s, done.\n",
            "Resolving deltas: 100% (282/282), done.\n"
          ],
          "name": "stdout"
        }
      ]
    },
    {
      "cell_type": "code",
      "metadata": {
        "colab": {
          "base_uri": "https://localhost:8080/"
        },
        "id": "JL1uarNq4mo4",
        "outputId": "e0b4dd2c-5f4d-405f-c5f2-629537e04101"
      },
      "source": [
        "!pip install ffmpeg-python"
      ],
      "execution_count": null,
      "outputs": [
        {
          "output_type": "stream",
          "text": [
            "Collecting ffmpeg-python\n",
            "  Downloading https://files.pythonhosted.org/packages/d7/0c/56be52741f75bad4dc6555991fabd2e07b432d333da82c11ad701123888a/ffmpeg_python-0.2.0-py3-none-any.whl\n",
            "Requirement already satisfied: future in /usr/local/lib/python3.7/dist-packages (from ffmpeg-python) (0.16.0)\n",
            "Installing collected packages: ffmpeg-python\n",
            "Successfully installed ffmpeg-python-0.2.0\n"
          ],
          "name": "stdout"
        }
      ]
    },
    {
      "cell_type": "code",
      "metadata": {
        "id": "ig9q8g2lsma-"
      },
      "source": [
        "!python /content/pytorch_advanced/4_pose_estimation/make_folders.py"
      ],
      "execution_count": 6,
      "outputs": []
    },
    {
      "cell_type": "markdown",
      "metadata": {
        "id": "j1APQzpO3OOa"
      },
      "source": [
        "COCO.jsonとmask.tar.gzを「data」ディレクトリにアップロード"
      ]
    },
    {
      "cell_type": "code",
      "metadata": {
        "id": "LeDeGx8d3DwK"
      },
      "source": [
        "!python /content/pytorch_advanced/4_pose_estimation/data_downloads.py"
      ],
      "execution_count": 8,
      "outputs": []
    }
  ]
}