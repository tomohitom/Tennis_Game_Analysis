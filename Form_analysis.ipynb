{
  "nbformat": 4,
  "nbformat_minor": 0,
  "metadata": {
    "colab": {
      "name": "Form_analysis.ipynb",
      "provenance": [],
      "mount_file_id": "https://github.com/tomohitom/Tennis_Game_Analysis/blob/master/Form_analysis.ipynb",
      "authorship_tag": "ABX9TyPA4OtNMX3Q5sGZyOUGchEF",
      "include_colab_link": true
    },
    "kernelspec": {
      "name": "python3",
      "display_name": "Python 3"
    },
    "language_info": {
      "name": "python"
    },
    "accelerator": "GPU"
  },
  "cells": [
    {
      "cell_type": "markdown",
      "metadata": {
        "id": "view-in-github",
        "colab_type": "text"
      },
      "source": [
        "<a href=\"https://colab.research.google.com/github/tomohitom/Tennis_Game_Analysis/blob/master/Form_analysis.ipynb\" target=\"_parent\"><img src=\"https://colab.research.google.com/assets/colab-badge.svg\" alt=\"Open In Colab\"/></a>"
      ]
    },
    {
      "cell_type": "code",
      "metadata": {
        "colab": {
          "base_uri": "https://localhost:8080/"
        },
        "id": "VF6ns3vl5Foa",
        "outputId": "a96da7b6-8de7-419d-86cf-332e542ce69d"
      },
      "source": [
        "%cd /content/drive/MyDrive/tennis_video_tracking_system"
      ],
      "execution_count": 1,
      "outputs": [
        {
          "output_type": "stream",
          "text": [
            "/content/drive/MyDrive/tennis_video_tracking_system\n"
          ],
          "name": "stdout"
        }
      ]
    },
    {
      "cell_type": "code",
      "metadata": {
        "id": "WQ8rI0DuMN5-"
      },
      "source": [
        "from Openpose import run_openpose\n",
        "\n",
        "movie_name = \"RF_forehand.mp4\"\n",
        "run_openpose(movie_name)"
      ],
      "execution_count": 3,
      "outputs": []
    }
  ]
}