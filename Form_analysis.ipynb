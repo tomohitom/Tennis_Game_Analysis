{
  "nbformat": 4,
  "nbformat_minor": 0,
  "metadata": {
    "colab": {
      "name": "Form_analysis.ipynb",
      "provenance": [],
      "mount_file_id": "https://github.com/tomohitom/Tennis_Game_Analysis/blob/master/Form_analysis.ipynb",
      "authorship_tag": "ABX9TyO041i7HPbN3kpQx/2sKeQY",
      "include_colab_link": true
    },
    "kernelspec": {
      "name": "python3",
      "display_name": "Python 3"
    },
    "language_info": {
      "name": "python"
    }
  },
  "cells": [
    {
      "cell_type": "markdown",
      "metadata": {
        "id": "view-in-github",
        "colab_type": "text"
      },
      "source": [
        "<a href=\"https://colab.research.google.com/github/tomohitom/Tennis_Game_Analysis/blob/master/Form_analysis.ipynb\" target=\"_parent\"><img src=\"https://colab.research.google.com/assets/colab-badge.svg\" alt=\"Open In Colab\"/></a>"
      ]
    },
    {
      "cell_type": "code",
      "metadata": {
        "colab": {
          "base_uri": "https://localhost:8080/"
        },
        "id": "VF6ns3vl5Foa",
        "outputId": "ee56b9c3-0524-4e88-ec13-272d9d98b63d"
      },
      "source": [
        "%cd /content/drive/MyDrive/tennis_video_tracking_system"
      ],
      "execution_count": 1,
      "outputs": [
        {
          "output_type": "stream",
          "text": [
            "/content/drive/MyDrive/tennis_video_tracking_system\n"
          ],
          "name": "stdout"
        }
      ]
    },
    {
      "cell_type": "code",
      "metadata": {
        "id": "WQ8rI0DuMN5-",
        "colab": {
          "base_uri": "https://localhost:8080/"
        },
        "outputId": "3daefaba-859a-42c1-e22c-a57903290f4e"
      },
      "source": [
        "from Openpose import run_openpose\n",
        "\n",
        "movie_name = \"RF_fh1.mp4\"\n",
        "run_openpose(movie_name)"
      ],
      "execution_count": 2,
      "outputs": [
        {
          "output_type": "stream",
          "text": [
            "SUM_FRAME: 48.0\n"
          ],
          "name": "stdout"
        },
        {
          "output_type": "stream",
          "text": [
            "/usr/local/lib/python3.7/dist-packages/torch/nn/functional.py:718: UserWarning: Named tensors and all their associated APIs are an experimental feature and subject to change. Please do not use them for anything important until they are released as stable. (Triggered internally at  /pytorch/c10/core/TensorImpl.h:1156.)\n",
            "  return torch.max_pool2d(input, kernel_size, stride, padding, dilation, ceil_mode)\n"
          ],
          "name": "stderr"
        },
        {
          "output_type": "stream",
          "text": [
            "1: 10.75sec\n",
            "2: 10.2sec\n",
            "3: 9.88sec\n",
            "4: 9.87sec\n",
            "5: 10.12sec\n",
            "6: 10.28sec\n",
            "7: 10.14sec\n",
            "8: 10.11sec\n",
            "9: 10.02sec\n",
            "10: 10.12sec\n",
            "11: 10.27sec\n",
            "12: 9.96sec\n",
            "13: 10.11sec\n",
            "14: 10.03sec\n",
            "15: 10.22sec\n",
            "16: 10.28sec\n",
            "17: 10.09sec\n",
            "18: 10.12sec\n",
            "19: 10.05sec\n",
            "20: 10.18sec\n",
            "21: 10.02sec\n",
            "22: 10.16sec\n",
            "23: 10.13sec\n",
            "24: 9.88sec\n",
            "25: 10.31sec\n",
            "26: 10.02sec\n",
            "27: 10.06sec\n",
            "28: 9.98sec\n",
            "29: 9.98sec\n",
            "30: 9.97sec\n",
            "31: 10.16sec\n",
            "32: 9.82sec\n",
            "33: 10.24sec\n",
            "34: 10.17sec\n",
            "35: 10.06sec\n",
            "36: 9.77sec\n",
            "37: 10.03sec\n",
            "38: 10.45sec\n",
            "39: 10.46sec\n",
            "40: 10.12sec\n",
            "41: 10.42sec\n",
            "42: 10.11sec\n",
            "43: 10.22sec\n",
            "44: 10.01sec\n",
            "45: 9.88sec\n",
            "46: 10.33sec\n",
            "47: 10.11sec\n",
            "48: 10.14sec\n"
          ],
          "name": "stdout"
        }
      ]
    }
  ]
}