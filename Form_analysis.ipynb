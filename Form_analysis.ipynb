{
  "nbformat": 4,
  "nbformat_minor": 0,
  "metadata": {
    "colab": {
      "name": "Form_analysis.ipynb",
      "provenance": [],
      "mount_file_id": "https://github.com/tomohitom/Tennis_Game_Analysis/blob/master/Form_analysis.ipynb",
      "authorship_tag": "ABX9TyN7EtCby3Mdmfcu6C02PYfe",
      "include_colab_link": true
    },
    "kernelspec": {
      "name": "python3",
      "display_name": "Python 3"
    },
    "language_info": {
      "name": "python"
    }
  },
  "cells": [
    {
      "cell_type": "markdown",
      "metadata": {
        "id": "view-in-github",
        "colab_type": "text"
      },
      "source": [
        "<a href=\"https://colab.research.google.com/github/tomohitom/Tennis_Game_Analysis/blob/master/Form_analysis.ipynb\" target=\"_parent\"><img src=\"https://colab.research.google.com/assets/colab-badge.svg\" alt=\"Open In Colab\"/></a>"
      ]
    },
    {
      "cell_type": "code",
      "metadata": {
        "colab": {
          "base_uri": "https://localhost:8080/"
        },
        "id": "VF6ns3vl5Foa",
        "outputId": "dd1c7fd7-3911-4c51-ad25-ba55fd4e52cb"
      },
      "source": [
        "%cd /content/drive/MyDrive/tennis_video_tracking_system"
      ],
      "execution_count": 1,
      "outputs": [
        {
          "output_type": "stream",
          "name": "stdout",
          "text": [
            "/content/drive/MyDrive/tennis_video_tracking_system\n"
          ]
        }
      ]
    },
    {
      "cell_type": "code",
      "metadata": {
        "id": "Xu_VgRfRon0T",
        "outputId": "fcba0383-57ed-4c9e-eeeb-4317cddce757",
        "colab": {
          "base_uri": "https://localhost:8080/"
        }
      },
      "source": [
        "!python 3d_estimation/run.py --movie_name RF_fh1.mp4 --load_model 3d_estimation/fusion_3d_var.pth"
      ],
      "execution_count": 2,
      "outputs": [
        {
          "output_type": "stream",
          "name": "stdout",
          "text": [
            "heads {'hm': 16}\n",
            "SUM_FRAME: 48.0\n",
            "=> using msra resnet 'msra_50'\n",
            "=> loading pretrained model https://download.pytorch.org/models/resnet50-19c8e357.pth\n",
            "loaded 3d_estimation/fusion_3d_var.pth, epoch 10\n",
            "/usr/local/lib/python3.7/dist-packages/torch/nn/functional.py:718: UserWarning: Named tensors and all their associated APIs are an experimental feature and subject to change. Please do not use them for anything important until they are released as stable. (Triggered internally at  /pytorch/c10/core/TensorImpl.h:1156.)\n",
            "  return torch.max_pool2d(input, kernel_size, stride, padding, dilation, ceil_mode)\n",
            "<Figure size 640x480 with 1 Axes>\n",
            "1: 0.22sec\n",
            "2: 0.09sec\n",
            "3: 0.07sec\n",
            "4: 0.07sec\n",
            "5: 0.07sec\n",
            "6: 0.07sec\n",
            "7: 0.07sec\n",
            "8: 0.07sec\n",
            "9: 0.07sec\n",
            "10: 0.07sec\n",
            "11: 0.07sec\n",
            "12: 0.07sec\n",
            "13: 0.07sec\n",
            "14: 0.07sec\n",
            "15: 0.07sec\n",
            "16: 0.07sec\n",
            "17: 0.07sec\n",
            "18: 0.07sec\n",
            "19: 0.08sec\n",
            "20: 0.07sec\n",
            "21: 0.07sec\n",
            "22: 0.07sec\n",
            "23: 0.07sec\n",
            "24: 0.07sec\n",
            "25: 0.07sec\n",
            "26: 0.07sec\n",
            "27: 0.07sec\n",
            "28: 0.07sec\n",
            "29: 0.07sec\n",
            "30: 0.07sec\n",
            "31: 0.07sec\n",
            "32: 0.07sec\n",
            "33: 0.07sec\n",
            "34: 0.08sec\n",
            "35: 0.07sec\n",
            "36: 0.07sec\n",
            "37: 0.07sec\n",
            "38: 0.07sec\n",
            "39: 0.07sec\n",
            "40: 0.07sec\n",
            "41: 0.07sec\n",
            "42: 0.07sec\n",
            "43: 0.07sec\n",
            "44: 0.07sec\n",
            "45: 0.07sec\n",
            "46: 0.07sec\n",
            "47: 0.07sec\n",
            "48: 0.07sec\n"
          ]
        }
      ]
    },
    {
      "cell_type": "code",
      "metadata": {
        "id": "WQ8rI0DuMN5-"
      },
      "source": [
        "from Openpose import run_openpose\n",
        "\n",
        "movie_name = \"RF_fh1.mp4\"\n",
        "run_openpose(movie_name)"
      ],
      "execution_count": null,
      "outputs": []
    }
  ]
}