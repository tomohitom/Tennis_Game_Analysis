{
  "nbformat": 4,
  "nbformat_minor": 0,
  "metadata": {
    "colab": {
      "name": "Form_analysis.ipynb",
      "provenance": [],
      "mount_file_id": "https://github.com/tomohitom/Tennis_Game_Analysis/blob/master/Form_analysis.ipynb",
      "authorship_tag": "ABX9TyPA4OtNMX3Q5sGZyOUGchEF",
      "include_colab_link": true
    },
    "kernelspec": {
      "name": "python3",
      "display_name": "Python 3"
    },
    "language_info": {
      "name": "python"
    }
  },
  "cells": [
    {
      "cell_type": "markdown",
      "metadata": {
        "id": "view-in-github",
        "colab_type": "text"
      },
      "source": [
        "<a href=\"https://colab.research.google.com/github/tomohitom/Tennis_Game_Analysis/blob/master/Form_analysis.ipynb\" target=\"_parent\"><img src=\"https://colab.research.google.com/assets/colab-badge.svg\" alt=\"Open In Colab\"/></a>"
      ]
    },
    {
      "cell_type": "code",
      "metadata": {
        "colab": {
          "base_uri": "https://localhost:8080/"
        },
        "id": "VF6ns3vl5Foa",
        "outputId": "440d761e-5843-4a6b-fe53-72d1f149b0b9"
      },
      "source": [
        "%cd /content/drive/MyDrive/tennis_video_tracking_system"
      ],
      "execution_count": 1,
      "outputs": [
        {
          "output_type": "stream",
          "text": [
            "/content/drive/MyDrive/tennis_video_tracking_system\n"
          ],
          "name": "stdout"
        }
      ]
    },
    {
      "cell_type": "code",
      "metadata": {
        "id": "WQ8rI0DuMN5-",
        "outputId": "512f3ed2-7dd4-48d5-895a-dedbe2168bce",
        "colab": {
          "base_uri": "https://localhost:8080/"
        }
      },
      "source": [
        "from Openpose import run_openpose\n",
        "\n",
        "movie_name = \"RF_forehand.mp4\"\n",
        "run_openpose(movie_name)"
      ],
      "execution_count": 2,
      "outputs": [
        {
          "output_type": "stream",
          "text": [
            "SUM_FRAME: 43.0\n"
          ],
          "name": "stdout"
        },
        {
          "output_type": "stream",
          "text": [
            "/usr/local/lib/python3.7/dist-packages/torch/nn/functional.py:718: UserWarning: Named tensors and all their associated APIs are an experimental feature and subject to change. Please do not use them for anything important until they are released as stable. (Triggered internally at  /pytorch/c10/core/TensorImpl.h:1156.)\n",
            "  return torch.max_pool2d(input, kernel_size, stride, padding, dilation, ceil_mode)\n"
          ],
          "name": "stderr"
        },
        {
          "output_type": "stream",
          "text": [
            "1: 3.25sec\n",
            "2: 2.93sec\n",
            "3: 2.93sec\n",
            "4: 2.92sec\n",
            "5: 2.93sec\n",
            "6: 2.9sec\n",
            "7: 2.93sec\n",
            "8: 2.91sec\n",
            "9: 2.88sec\n",
            "10: 2.88sec\n",
            "11: 2.86sec\n",
            "12: 2.92sec\n",
            "13: 2.86sec\n",
            "14: 2.86sec\n",
            "15: 2.86sec\n",
            "16: 2.87sec\n",
            "17: 2.84sec\n",
            "18: 2.87sec\n",
            "19: 2.89sec\n",
            "20: 2.9sec\n",
            "21: 2.86sec\n",
            "22: 2.88sec\n",
            "23: 2.88sec\n",
            "24: 2.85sec\n",
            "25: 2.87sec\n",
            "26: 2.88sec\n",
            "27: 2.87sec\n",
            "28: 2.89sec\n",
            "29: 2.88sec\n",
            "30: 2.92sec\n",
            "31: 2.9sec\n",
            "32: 2.86sec\n",
            "33: 2.91sec\n",
            "34: 2.91sec\n",
            "35: 2.9sec\n",
            "36: 2.86sec\n",
            "37: 2.91sec\n",
            "38: 2.89sec\n",
            "39: 2.86sec\n",
            "40: 2.88sec\n",
            "41: 2.93sec\n",
            "42: 2.9sec\n",
            "43: 2.89sec\n"
          ],
          "name": "stdout"
        }
      ]
    }
  ]
}