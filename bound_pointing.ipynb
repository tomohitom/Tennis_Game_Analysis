{
  "nbformat": 4,
  "nbformat_minor": 0,
  "metadata": {
    "colab": {
      "name": "bound_pointing.ipynb",
      "provenance": [],
      "mount_file_id": "1j2ko7K4lT7KIZ1G4vK-KvqIgDd5xn6uI",
      "authorship_tag": "ABX9TyOa1zFOfSWJxSQjb0Uaihcf",
      "include_colab_link": true
    },
    "kernelspec": {
      "name": "python3",
      "display_name": "Python 3"
    },
    "language_info": {
      "name": "python"
    }
  },
  "cells": [
    {
      "cell_type": "markdown",
      "metadata": {
        "id": "view-in-github",
        "colab_type": "text"
      },
      "source": [
        "<a href=\"https://colab.research.google.com/github/tomohitom/Tennis_Game_Analysis/blob/main/bound_pointing.ipynb\" target=\"_parent\"><img src=\"https://colab.research.google.com/assets/colab-badge.svg\" alt=\"Open In Colab\"/></a>"
      ]
    },
    {
      "cell_type": "code",
      "metadata": {
        "colab": {
          "base_uri": "https://localhost:8080/"
        },
        "id": "AvPg3ZApkM83",
        "outputId": "b900e1ca-f038-463e-9cde-f598a74f1fb7"
      },
      "source": [
        "%cd /content/drive/MyDrive/tennis_video_tracking_system"
      ],
      "execution_count": 1,
      "outputs": [
        {
          "output_type": "stream",
          "name": "stdout",
          "text": [
            "/content/drive/MyDrive/tennis_video_tracking_system\n"
          ]
        }
      ]
    },
    {
      "cell_type": "code",
      "metadata": {
        "id": "eFFoH19d7-7T"
      },
      "source": [
        "import cv2\n",
        "import numpy as np\n",
        "from Calibration import court_detect\n",
        "import matplotlib.pyplot as plt\n",
        "\n",
        "\n",
        "VIDEO_DATA = \"image/pre_shot1.mp4\"\n",
        "ESC_KEY = 0x1b\n",
        "DURATION = 1.0\n",
        "\n",
        "video = cv2.VideoCapture(VIDEO_DATA)\n",
        "\n",
        "fps    = video.get(cv2.CAP_PROP_FPS)\n",
        "height = video.get(cv2.CAP_PROP_FRAME_HEIGHT)\n",
        "width  = video.get(cv2.CAP_PROP_FRAME_WIDTH)\n",
        "# 形式はMP4Vを指定\n",
        "fourcc = cv2.VideoWriter_fourcc('m', 'p', '4', 'v')\n",
        "# 出力先のファイルを開く\n",
        "out = cv2.VideoWriter('output.mp4', fourcc, 20.0, (int(width), int(height)))\n",
        "\n",
        "# 最初のフレームの読み込み\n",
        "end_flag, frame_next = video.read()#read() 1つ1つのフレームを読み込む\n",
        "height, width, channels = frame_next.shape\n",
        "motion_history = np.zeros((height, width), np.float32)\n",
        "frame_pre = frame_next.copy()\n",
        "\n",
        "count = 0\n",
        "\n",
        "while(end_flag):\n",
        "    count += 1\n",
        "    img = court_detect(frame_next)\n",
        "    \n",
        "    if count == 1:\n",
        "        plt.imshow(img)\n",
        "        plt.show()\n",
        "        break\n",
        "    #out.write(img)\n",
        "\n",
        "cv2.destroyAllWindows()\n",
        "out.release()\n",
        "video.release()"
      ],
      "execution_count": null,
      "outputs": []
    },
    {
      "cell_type": "code",
      "metadata": {
        "colab": {
          "base_uri": "https://localhost:8080/"
        },
        "id": "HpFvOLEJK6QP",
        "outputId": "33829f37-af7f-40d4-9fbb-2fac780183c8"
      },
      "source": [
        "!python ball_player_tracking.py"
      ],
      "execution_count": 4,
      "outputs": [
        {
          "output_type": "stream",
          "name": "stdout",
          "text": [
            "[[441, 113], [838, 113], [1055, 570], [220, 581]]\n",
            "ball_player_tracking.py:106: DeprecationWarning: time.clock has been deprecated in Python 3.3 and will be removed from Python 3.8: use time.perf_counter or time.process_time instead\n",
            "  proc_time = time.clock()# プロセッサ処理時間(sec)を取得\n",
            "ball_player_tracking.py:106: DeprecationWarning: time.clock has been deprecated in Python 3.3 and will be removed from Python 3.8: use time.perf_counter or time.process_time instead\n",
            "  proc_time = time.clock()# プロセッサ処理時間(sec)を取得\n"
          ]
        }
      ]
    }
  ]
}