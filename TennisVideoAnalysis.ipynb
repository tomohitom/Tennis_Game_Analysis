{
  "nbformat": 4,
  "nbformat_minor": 0,
  "metadata": {
    "colab": {
      "name": "Untitled0.ipynb",
      "provenance": [],
      "mount_file_id": "https://github.com/tomohitom/Tennis_Game_Analysis/blob/main/TennisVideoAnalysis.ipynb",
      "authorship_tag": "ABX9TyNsb7gptN/i6GRhZdWdY2Ig",
      "include_colab_link": true
    },
    "kernelspec": {
      "name": "python3",
      "display_name": "Python 3"
    },
    "language_info": {
      "name": "python"
    }
  },
  "cells": [
    {
      "cell_type": "markdown",
      "metadata": {
        "id": "view-in-github",
        "colab_type": "text"
      },
      "source": [
        "<a href=\"https://colab.research.google.com/github/tomohitom/Tennis_Game_Analysis/blob/main/TennisVideoAnalysis.ipynb\" target=\"_parent\"><img src=\"https://colab.research.google.com/assets/colab-badge.svg\" alt=\"Open In Colab\"/></a>"
      ]
    },
    {
      "cell_type": "markdown",
      "metadata": {
        "id": "MBsSqDlC3enA"
      },
      "source": [
        "実行前にGPUにランタイムを変更する"
      ]
    },
    {
      "cell_type": "code",
      "metadata": {
        "colab": {
          "base_uri": "https://localhost:8080/"
        },
        "id": "XXyhXE2UyVv5",
        "outputId": "ff0b02ea-c4ac-4fde-a901-0b11117880f6"
      },
      "source": [
        "%cd /content/drive/MyDrive/tennis-tracking"
      ],
      "execution_count": 1,
      "outputs": [
        {
          "output_type": "stream",
          "name": "stdout",
          "text": [
            "/content/drive/MyDrive/tennis-tracking\n"
          ]
        }
      ]
    },
    {
      "cell_type": "code",
      "metadata": {
        "id": "zjwEELNi7pcI",
        "colab": {
          "base_uri": "https://localhost:8080/"
        },
        "outputId": "051f69af-c23d-4023-9648-6972ab549a54"
      },
      "source": [
        "!pip install sktime\n",
        "!pip install filterpy"
      ],
      "execution_count": 2,
      "outputs": [
        {
          "output_type": "stream",
          "name": "stdout",
          "text": [
            "Collecting sktime\n",
            "  Downloading sktime-0.8.0-cp37-cp37m-manylinux_2_17_x86_64.manylinux2014_x86_64.whl (5.9 MB)\n",
            "\u001b[K     |████████████████████████████████| 5.9 MB 9.6 MB/s \n",
            "\u001b[?25hCollecting numba>=0.53\n",
            "  Downloading numba-0.54.1-cp37-cp37m-manylinux2014_x86_64.manylinux_2_17_x86_64.whl (3.3 MB)\n",
            "\u001b[K     |████████████████████████████████| 3.3 MB 44.1 MB/s \n",
            "\u001b[?25hCollecting scikit-learn>=0.24.0\n",
            "  Downloading scikit_learn-1.0-cp37-cp37m-manylinux_2_12_x86_64.manylinux2010_x86_64.whl (23.1 MB)\n",
            "\u001b[K     |████████████████████████████████| 23.1 MB 1.7 MB/s \n",
            "\u001b[?25hRequirement already satisfied: numpy>=1.19.3 in /usr/local/lib/python3.7/dist-packages (from sktime) (1.19.5)\n",
            "Collecting statsmodels>=0.12.1\n",
            "  Downloading statsmodels-0.13.0-cp37-cp37m-manylinux_2_17_x86_64.manylinux2014_x86_64.whl (9.8 MB)\n",
            "\u001b[K     |████████████████████████████████| 9.8 MB 38.5 MB/s \n",
            "\u001b[?25hRequirement already satisfied: pandas>=1.1.0 in /usr/local/lib/python3.7/dist-packages (from sktime) (1.1.5)\n",
            "Requirement already satisfied: wheel in /usr/local/lib/python3.7/dist-packages (from sktime) (0.37.0)\n",
            "Collecting llvmlite<0.38,>=0.37.0rc1\n",
            "  Downloading llvmlite-0.37.0-cp37-cp37m-manylinux2014_x86_64.whl (26.3 MB)\n",
            "\u001b[K     |████████████████████████████████| 26.3 MB 91 kB/s \n",
            "\u001b[?25hRequirement already satisfied: setuptools in /usr/local/lib/python3.7/dist-packages (from numba>=0.53->sktime) (57.4.0)\n",
            "Requirement already satisfied: python-dateutil>=2.7.3 in /usr/local/lib/python3.7/dist-packages (from pandas>=1.1.0->sktime) (2.8.2)\n",
            "Requirement already satisfied: pytz>=2017.2 in /usr/local/lib/python3.7/dist-packages (from pandas>=1.1.0->sktime) (2018.9)\n",
            "Requirement already satisfied: six>=1.5 in /usr/local/lib/python3.7/dist-packages (from python-dateutil>=2.7.3->pandas>=1.1.0->sktime) (1.15.0)\n",
            "Requirement already satisfied: joblib>=0.11 in /usr/local/lib/python3.7/dist-packages (from scikit-learn>=0.24.0->sktime) (1.0.1)\n",
            "Requirement already satisfied: scipy>=1.1.0 in /usr/local/lib/python3.7/dist-packages (from scikit-learn>=0.24.0->sktime) (1.4.1)\n",
            "Collecting threadpoolctl>=2.0.0\n",
            "  Downloading threadpoolctl-3.0.0-py3-none-any.whl (14 kB)\n",
            "Requirement already satisfied: patsy>=0.5.2 in /usr/local/lib/python3.7/dist-packages (from statsmodels>=0.12.1->sktime) (0.5.2)\n",
            "Installing collected packages: threadpoolctl, llvmlite, statsmodels, scikit-learn, numba, sktime\n",
            "  Attempting uninstall: llvmlite\n",
            "    Found existing installation: llvmlite 0.34.0\n",
            "    Uninstalling llvmlite-0.34.0:\n",
            "      Successfully uninstalled llvmlite-0.34.0\n",
            "  Attempting uninstall: statsmodels\n",
            "    Found existing installation: statsmodels 0.10.2\n",
            "    Uninstalling statsmodels-0.10.2:\n",
            "      Successfully uninstalled statsmodels-0.10.2\n",
            "  Attempting uninstall: scikit-learn\n",
            "    Found existing installation: scikit-learn 0.22.2.post1\n",
            "    Uninstalling scikit-learn-0.22.2.post1:\n",
            "      Successfully uninstalled scikit-learn-0.22.2.post1\n",
            "  Attempting uninstall: numba\n",
            "    Found existing installation: numba 0.51.2\n",
            "    Uninstalling numba-0.51.2:\n",
            "      Successfully uninstalled numba-0.51.2\n",
            "Successfully installed llvmlite-0.37.0 numba-0.54.1 scikit-learn-1.0 sktime-0.8.0 statsmodels-0.13.0 threadpoolctl-3.0.0\n",
            "Collecting filterpy\n",
            "  Downloading filterpy-1.4.5.zip (177 kB)\n",
            "\u001b[K     |████████████████████████████████| 177 kB 13.2 MB/s \n",
            "\u001b[?25hRequirement already satisfied: numpy in /usr/local/lib/python3.7/dist-packages (from filterpy) (1.19.5)\n",
            "Requirement already satisfied: scipy in /usr/local/lib/python3.7/dist-packages (from filterpy) (1.4.1)\n",
            "Requirement already satisfied: matplotlib in /usr/local/lib/python3.7/dist-packages (from filterpy) (3.2.2)\n",
            "Requirement already satisfied: cycler>=0.10 in /usr/local/lib/python3.7/dist-packages (from matplotlib->filterpy) (0.10.0)\n",
            "Requirement already satisfied: kiwisolver>=1.0.1 in /usr/local/lib/python3.7/dist-packages (from matplotlib->filterpy) (1.3.2)\n",
            "Requirement already satisfied: pyparsing!=2.0.4,!=2.1.2,!=2.1.6,>=2.0.1 in /usr/local/lib/python3.7/dist-packages (from matplotlib->filterpy) (2.4.7)\n",
            "Requirement already satisfied: python-dateutil>=2.1 in /usr/local/lib/python3.7/dist-packages (from matplotlib->filterpy) (2.8.2)\n",
            "Requirement already satisfied: six in /usr/local/lib/python3.7/dist-packages (from cycler>=0.10->matplotlib->filterpy) (1.15.0)\n",
            "Building wheels for collected packages: filterpy\n",
            "  Building wheel for filterpy (setup.py) ... \u001b[?25l\u001b[?25hdone\n",
            "  Created wheel for filterpy: filename=filterpy-1.4.5-py3-none-any.whl size=110474 sha256=e2fcd8095b4d2dac03b9694cfa777796cfea02c07613bf0fbdb7488a73611be9\n",
            "  Stored in directory: /root/.cache/pip/wheels/ce/e0/ee/a2b3c5caab3418c1ccd8c4de573d4cbe13315d7e8b0a55fbc2\n",
            "Successfully built filterpy\n",
            "Installing collected packages: filterpy\n",
            "Successfully installed filterpy-1.4.5\n"
          ]
        }
      ]
    },
    {
      "cell_type": "code",
      "metadata": {
        "id": "nV8M5v2g0vRu",
        "colab": {
          "base_uri": "https://localhost:8080/"
        },
        "outputId": "a5d5578e-306d-4c7a-c914-a50c44d4ffcf"
      },
      "source": [
        "!python predict_video.py --input_video_path=VideoInput/mvsd.mp4 --output_video_path=VideoOutput/output_preshot1.mp4 --minimap=1 --bounce=1"
      ],
      "execution_count": 3,
      "outputs": [
        {
          "output_type": "stream",
          "name": "stdout",
          "text": [
            "fps : 29\n",
            "2021-10-16 04:21:17.163887: I tensorflow/stream_executor/cuda/cuda_gpu_executor.cc:937] successful NUMA node read from SysFS had negative value (-1), but there must be at least one NUMA node, so returning NUMA node zero\n",
            "2021-10-16 04:21:17.642879: I tensorflow/stream_executor/cuda/cuda_gpu_executor.cc:937] successful NUMA node read from SysFS had negative value (-1), but there must be at least one NUMA node, so returning NUMA node zero\n",
            "2021-10-16 04:21:17.643933: I tensorflow/stream_executor/cuda/cuda_gpu_executor.cc:937] successful NUMA node read from SysFS had negative value (-1), but there must be at least one NUMA node, so returning NUMA node zero\n",
            "2021-10-16 04:21:17.645091: I tensorflow/stream_executor/cuda/cuda_gpu_executor.cc:937] successful NUMA node read from SysFS had negative value (-1), but there must be at least one NUMA node, so returning NUMA node zero\n",
            "2021-10-16 04:21:17.645830: I tensorflow/stream_executor/cuda/cuda_gpu_executor.cc:937] successful NUMA node read from SysFS had negative value (-1), but there must be at least one NUMA node, so returning NUMA node zero\n",
            "2021-10-16 04:21:17.646743: I tensorflow/stream_executor/cuda/cuda_gpu_executor.cc:937] successful NUMA node read from SysFS had negative value (-1), but there must be at least one NUMA node, so returning NUMA node zero\n",
            "2021-10-16 04:21:36.988583: I tensorflow/stream_executor/cuda/cuda_gpu_executor.cc:937] successful NUMA node read from SysFS had negative value (-1), but there must be at least one NUMA node, so returning NUMA node zero\n",
            "2021-10-16 04:21:36.989380: I tensorflow/stream_executor/cuda/cuda_gpu_executor.cc:937] successful NUMA node read from SysFS had negative value (-1), but there must be at least one NUMA node, so returning NUMA node zero\n",
            "2021-10-16 04:21:36.990189: I tensorflow/stream_executor/cuda/cuda_gpu_executor.cc:937] successful NUMA node read from SysFS had negative value (-1), but there must be at least one NUMA node, so returning NUMA node zero\n",
            "2021-10-16 04:21:36.991162: W tensorflow/core/common_runtime/gpu/gpu_bfc_allocator.cc:39] Overriding allow_growth setting because the TF_FORCE_GPU_ALLOW_GROWTH environment variable is set. Original config value was 0.\n",
            "2021-10-16 04:21:36.991255: I tensorflow/core/common_runtime/gpu/gpu_device.cc:1510] Created device /job:localhost/replica:0/task:0/device:GPU:0 with 10386 MB memory:  -> device: 0, name: Tesla K80, pci bus id: 0000:00:04.0, compute capability: 3.7\n",
            "layer24 output shape: 256 360 640\n",
            "2021-10-16 04:21:38.629253: W tensorflow/core/util/tensor_slice_reader.cc:95] Could not open WeightsTracknet/model.3: Data loss: not an sstable (bad magic number): perhaps your file is in a different file format and you need to use a different restore operator?\n",
            "Using device cuda\n",
            "Downloading: \"https://download.pytorch.org/models/fasterrcnn_resnet50_fpn_coco-258fb6c6.pth\" to /root/.cache/torch/hub/checkpoints/fasterrcnn_resnet50_fpn_coco-258fb6c6.pth\n",
            "100% 160M/160M [00:01<00:00, 111MB/s]\n",
            "Detecting the court and the players...\n",
            "/usr/local/lib/python3.7/dist-packages/torch/nn/functional.py:718: UserWarning: Named tensors and all their associated APIs are an experimental feature and subject to change. Please do not use them for anything important until they are released as stable. (Triggered internally at  /pytorch/c10/core/TensorImpl.h:1156.)\n",
            "  return torch.max_pool2d(input, kernel_size, stride, padding, dilation, ceil_mode)\n",
            "BOXES  [array([ 921.98157,  571.71796, 1035.8999 ,  718.08484], dtype=float32)]\n",
            "BIGGEST  [ 922.  572. 1036.  718.]\n",
            "Finished!\n",
            "Tracking the ball: 1.54\n",
            "2021-10-16 04:25:32.606698: I tensorflow/compiler/mlir/mlir_graph_optimization_pass.cc:185] None of the MLIR Optimization Passes are enabled (registered 2)\n",
            "2021-10-16 04:25:34.887738: I tensorflow/stream_executor/cuda/cuda_dnn.cc:369] Loaded cuDNN version 8005\n",
            "Tracking the ball: 2.31\n",
            "Tracking the ball: 3.08\n",
            "Tracking the ball: 3.85\n",
            "Tracking the ball: 4.62\n",
            "Tracking the ball: 5.38\n",
            "Tracking the ball: 6.15\n",
            "Tracking the ball: 6.92\n",
            "Tracking the ball: 7.69\n",
            "Tracking the ball: 8.46\n",
            "Tracking the ball: 9.23\n",
            "Tracking the ball: 10.0\n",
            "Tracking the ball: 10.77\n",
            "Tracking the ball: 11.54\n",
            "Tracking the ball: 12.31\n",
            "Tracking the ball: 13.08\n",
            "Tracking the ball: 13.85\n",
            "Tracking the ball: 14.62\n",
            "Tracking the ball: 15.38\n",
            "Tracking the ball: 16.15\n",
            "Tracking the ball: 16.92\n",
            "Tracking the ball: 17.69\n",
            "Tracking the ball: 18.46\n",
            "Tracking the ball: 19.23\n",
            "Tracking the ball: 20.0\n",
            "Tracking the ball: 20.77\n",
            "Tracking the ball: 21.54\n",
            "Tracking the ball: 22.31\n",
            "Tracking the ball: 23.08\n",
            "Tracking the ball: 23.85\n",
            "Tracking the ball: 24.62\n",
            "Tracking the ball: 25.38\n",
            "Tracking the ball: 26.15\n",
            "Tracking the ball: 26.92\n",
            "Tracking the ball: 27.69\n",
            "Tracking the ball: 28.46\n",
            "Tracking the ball: 29.23\n",
            "Tracking the ball: 30.0\n",
            "Tracking the ball: 30.77\n",
            "Tracking the ball: 31.54\n",
            "Tracking the ball: 32.31\n",
            "Tracking the ball: 33.08\n",
            "Tracking the ball: 33.85\n",
            "Tracking the ball: 34.62\n",
            "Tracking the ball: 35.38\n",
            "Tracking the ball: 36.15\n",
            "Tracking the ball: 36.92\n",
            "Tracking the ball: 37.69\n",
            "Tracking the ball: 38.46\n",
            "Tracking the ball: 39.23\n",
            "Tracking the ball: 40.0\n",
            "Tracking the ball: 40.77\n",
            "Tracking the ball: 41.54\n",
            "Tracking the ball: 42.31\n",
            "Tracking the ball: 43.08\n",
            "Tracking the ball: 43.85\n",
            "Tracking the ball: 44.62\n",
            "Tracking the ball: 45.38\n",
            "Tracking the ball: 46.15\n",
            "Tracking the ball: 46.92\n",
            "Tracking the ball: 47.69\n",
            "Tracking the ball: 48.46\n",
            "Tracking the ball: 49.23\n",
            "Tracking the ball: 50.0\n",
            "Tracking the ball: 50.77\n",
            "Tracking the ball: 51.54\n",
            "Tracking the ball: 52.31\n",
            "Tracking the ball: 53.08\n",
            "Tracking the ball: 53.85\n",
            "Tracking the ball: 54.62\n",
            "Tracking the ball: 55.38\n",
            "Tracking the ball: 56.15\n",
            "Tracking the ball: 56.92\n",
            "Tracking the ball: 57.69\n",
            "Tracking the ball: 58.46\n",
            "Tracking the ball: 59.23\n",
            "Tracking the ball: 60.0\n",
            "Tracking the ball: 60.77\n",
            "Tracking the ball: 61.54\n",
            "Tracking the ball: 62.31\n",
            "Tracking the ball: 63.08\n",
            "Tracking the ball: 63.85\n",
            "Tracking the ball: 64.62\n",
            "Tracking the ball: 65.38\n",
            "Tracking the ball: 66.15\n",
            "Tracking the ball: 66.92\n",
            "Tracking the ball: 67.69\n",
            "Tracking the ball: 68.46\n",
            "Tracking the ball: 69.23\n",
            "Tracking the ball: 70.0\n",
            "Tracking the ball: 70.77\n",
            "Tracking the ball: 71.54\n",
            "Tracking the ball: 72.31\n",
            "Tracking the ball: 73.08\n",
            "Tracking the ball: 73.85\n",
            "Tracking the ball: 74.62\n",
            "Tracking the ball: 75.38\n",
            "Tracking the ball: 76.15\n",
            "Tracking the ball: 76.92\n",
            "Tracking the ball: 77.69\n",
            "Tracking the ball: 78.46\n",
            "Tracking the ball: 79.23\n",
            "Tracking the ball: 80.0\n",
            "Tracking the ball: 80.77\n",
            "Tracking the ball: 81.54\n",
            "Tracking the ball: 82.31\n",
            "Tracking the ball: 83.08\n",
            "Tracking the ball: 83.85\n",
            "Tracking the ball: 84.62\n",
            "Tracking the ball: 85.38\n",
            "Tracking the ball: 86.15\n",
            "Tracking the ball: 86.92\n",
            "Tracking the ball: 87.69\n",
            "Tracking the ball: 88.46\n",
            "Tracking the ball: 89.23\n",
            "Tracking the ball: 90.0\n",
            "Tracking the ball: 90.77\n",
            "Tracking the ball: 91.54\n",
            "Tracking the ball: 92.31\n",
            "Tracking the ball: 93.08\n",
            "Tracking the ball: 93.85\n",
            "Tracking the ball: 94.62\n",
            "Tracking the ball: 95.38\n",
            "Tracking the ball: 96.15\n",
            "Tracking the ball: 96.92\n",
            "Tracking the ball: 97.69\n",
            "Tracking the ball: 98.46\n",
            "Tracking the ball: 99.23\n",
            "/usr/local/lib/python3.7/dist-packages/sklearn/base.py:333: UserWarning: Trying to unpickle estimator DecisionTreeClassifier from version 0.24.2 when using version 1.0. This might lead to breaking code or invalid results. Use at your own risk. For more info please refer to:\n",
            "https://scikit-learn.org/stable/modules/model_persistence.html#security-maintainability-limitations\n",
            "  UserWarning,\n",
            "/usr/local/lib/python3.7/dist-packages/sklearn/base.py:333: UserWarning: Trying to unpickle estimator Pipeline from version 0.24.2 when using version 1.0. This might lead to breaking code or invalid results. Use at your own risk. For more info please refer to:\n",
            "https://scikit-learn.org/stable/modules/model_persistence.html#security-maintainability-limitations\n",
            "  UserWarning,\n",
            "29\n",
            "130\n",
            "game  29\n",
            "Adding the mini-map...\n",
            "OpenCV: FFMPEG: tag 0x44495658/'XVID' is not supported with codec id 12 and format 'mp4 / MP4 (MPEG-4 Part 14)'\n",
            "OpenCV: FFMPEG: fallback to use tag 0x7634706d/'mp4v'\n",
            "minimap  29\n"
          ]
        }
      ]
    }
  ]
}