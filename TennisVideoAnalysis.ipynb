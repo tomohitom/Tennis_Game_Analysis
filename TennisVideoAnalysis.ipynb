{
  "nbformat": 4,
  "nbformat_minor": 0,
  "metadata": {
    "colab": {
      "name": "Untitled0.ipynb",
      "provenance": [],
      "mount_file_id": "1-eL40ixufAG8uP_Ct8OoqRtHnt9ZbOpr",
      "authorship_tag": "ABX9TyNaUmXMfbj45lChds5qiKyL",
      "include_colab_link": true
    },
    "kernelspec": {
      "name": "python3",
      "display_name": "Python 3"
    },
    "language_info": {
      "name": "python"
    }
  },
  "cells": [
    {
      "cell_type": "markdown",
      "metadata": {
        "id": "view-in-github",
        "colab_type": "text"
      },
      "source": [
        "<a href=\"https://colab.research.google.com/github/tomohitom/Tennis_Game_Analysis/blob/main/TennisVideoAnalysis.ipynb\" target=\"_parent\"><img src=\"https://colab.research.google.com/assets/colab-badge.svg\" alt=\"Open In Colab\"/></a>"
      ]
    },
    {
      "cell_type": "code",
      "metadata": {
        "colab": {
          "base_uri": "https://localhost:8080/"
        },
        "id": "XXyhXE2UyVv5",
        "outputId": "0ab6a009-3b3f-400f-8271-fb95324568f5"
      },
      "source": [
        "%cd /content/drive/MyDrive/tennis_video_tracking_system/TennisVideoAnalysis/src"
      ],
      "execution_count": 8,
      "outputs": [
        {
          "output_type": "stream",
          "name": "stdout",
          "text": [
            "/content/drive/MyDrive/tennis_video_tracking_system/TennisVideoAnalysis/src\n"
          ]
        }
      ]
    },
    {
      "cell_type": "code",
      "metadata": {
        "colab": {
          "base_uri": "https://localhost:8080/"
        },
        "id": "rPjbEuLXzCtr",
        "outputId": "3ecee60f-824e-43f4-fd0b-f110ef641f5d"
      },
      "source": [
        "!python TennisVideoAnalysis.py"
      ],
      "execution_count": 9,
      "outputs": [
        {
          "output_type": "stream",
          "name": "stdout",
          "text": [
            "INFO:root:init Setting()\n",
            "Tsitsipas Nishikori\n",
            "Traceback (most recent call last):\n",
            "  File \"TennisVideoAnalysis.py\", line 3272, in <module>\n",
            "    root = tkinter.Tk()\n",
            "  File \"/usr/lib/python3.7/tkinter/__init__.py\", line 2023, in __init__\n",
            "    self.tk = _tkinter.create(screenName, baseName, className, interactive, wantobjects, useTk, sync, use)\n",
            "_tkinter.TclError: no display name and no $DISPLAY environment variable\n"
          ]
        }
      ]
    }
  ]
}