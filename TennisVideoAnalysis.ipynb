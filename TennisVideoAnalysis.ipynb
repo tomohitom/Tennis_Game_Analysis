{
  "nbformat": 4,
  "nbformat_minor": 0,
  "metadata": {
    "colab": {
      "name": "Untitled0.ipynb",
      "provenance": [],
      "mount_file_id": "https://github.com/tomohitom/Tennis_Game_Analysis/blob/main/TennisVideoAnalysis.ipynb",
      "authorship_tag": "ABX9TyNKo3yKi8CwSWUFZxfmAkWc",
      "include_colab_link": true
    },
    "kernelspec": {
      "name": "python3",
      "display_name": "Python 3"
    },
    "language_info": {
      "name": "python"
    },
    "accelerator": "GPU"
  },
  "cells": [
    {
      "cell_type": "markdown",
      "metadata": {
        "id": "view-in-github",
        "colab_type": "text"
      },
      "source": [
        "<a href=\"https://colab.research.google.com/github/tomohitom/Tennis_Game_Analysis/blob/main/TennisVideoAnalysis.ipynb\" target=\"_parent\"><img src=\"https://colab.research.google.com/assets/colab-badge.svg\" alt=\"Open In Colab\"/></a>"
      ]
    },
    {
      "cell_type": "code",
      "metadata": {
        "colab": {
          "base_uri": "https://localhost:8080/"
        },
        "id": "XXyhXE2UyVv5",
        "outputId": "de8f12af-a337-464a-b109-e421936dd681"
      },
      "source": [
        "%cd /content/drive/MyDrive/tennis-tracking"
      ],
      "execution_count": 1,
      "outputs": [
        {
          "output_type": "stream",
          "name": "stdout",
          "text": [
            "/content/drive/MyDrive/tennis-tracking\n"
          ]
        }
      ]
    },
    {
      "cell_type": "code",
      "metadata": {
        "id": "zjwEELNi7pcI",
        "outputId": "f8686a17-7102-41e9-d35f-0e9cf0d8289f",
        "colab": {
          "base_uri": "https://localhost:8080/"
        }
      },
      "source": [
        "!pip install sktime\n",
        "!pip install filterpy"
      ],
      "execution_count": 2,
      "outputs": [
        {
          "output_type": "stream",
          "name": "stdout",
          "text": [
            "Requirement already satisfied: sktime in /usr/local/lib/python3.7/dist-packages (0.8.0)\n",
            "Requirement already satisfied: wheel in /usr/local/lib/python3.7/dist-packages (from sktime) (0.37.0)\n",
            "Requirement already satisfied: numpy>=1.19.3 in /usr/local/lib/python3.7/dist-packages (from sktime) (1.19.5)\n",
            "Requirement already satisfied: scikit-learn>=0.24.0 in /usr/local/lib/python3.7/dist-packages (from sktime) (1.0)\n",
            "Requirement already satisfied: numba>=0.53 in /usr/local/lib/python3.7/dist-packages (from sktime) (0.54.1)\n",
            "Requirement already satisfied: pandas>=1.1.0 in /usr/local/lib/python3.7/dist-packages (from sktime) (1.1.5)\n",
            "Requirement already satisfied: statsmodels>=0.12.1 in /usr/local/lib/python3.7/dist-packages (from sktime) (0.13.0)\n",
            "Requirement already satisfied: setuptools in /usr/local/lib/python3.7/dist-packages (from numba>=0.53->sktime) (57.4.0)\n",
            "Requirement already satisfied: llvmlite<0.38,>=0.37.0rc1 in /usr/local/lib/python3.7/dist-packages (from numba>=0.53->sktime) (0.37.0)\n",
            "Requirement already satisfied: python-dateutil>=2.7.3 in /usr/local/lib/python3.7/dist-packages (from pandas>=1.1.0->sktime) (2.8.2)\n",
            "Requirement already satisfied: pytz>=2017.2 in /usr/local/lib/python3.7/dist-packages (from pandas>=1.1.0->sktime) (2018.9)\n",
            "Requirement already satisfied: six>=1.5 in /usr/local/lib/python3.7/dist-packages (from python-dateutil>=2.7.3->pandas>=1.1.0->sktime) (1.15.0)\n",
            "Requirement already satisfied: joblib>=0.11 in /usr/local/lib/python3.7/dist-packages (from scikit-learn>=0.24.0->sktime) (1.0.1)\n",
            "Requirement already satisfied: scipy>=1.1.0 in /usr/local/lib/python3.7/dist-packages (from scikit-learn>=0.24.0->sktime) (1.4.1)\n",
            "Requirement already satisfied: threadpoolctl>=2.0.0 in /usr/local/lib/python3.7/dist-packages (from scikit-learn>=0.24.0->sktime) (3.0.0)\n",
            "Requirement already satisfied: patsy>=0.5.2 in /usr/local/lib/python3.7/dist-packages (from statsmodels>=0.12.1->sktime) (0.5.2)\n",
            "Requirement already satisfied: filterpy in /usr/local/lib/python3.7/dist-packages (1.4.5)\n",
            "Requirement already satisfied: numpy in /usr/local/lib/python3.7/dist-packages (from filterpy) (1.19.5)\n",
            "Requirement already satisfied: scipy in /usr/local/lib/python3.7/dist-packages (from filterpy) (1.4.1)\n",
            "Requirement already satisfied: matplotlib in /usr/local/lib/python3.7/dist-packages (from filterpy) (3.2.2)\n",
            "Requirement already satisfied: python-dateutil>=2.1 in /usr/local/lib/python3.7/dist-packages (from matplotlib->filterpy) (2.8.2)\n",
            "Requirement already satisfied: kiwisolver>=1.0.1 in /usr/local/lib/python3.7/dist-packages (from matplotlib->filterpy) (1.3.2)\n",
            "Requirement already satisfied: cycler>=0.10 in /usr/local/lib/python3.7/dist-packages (from matplotlib->filterpy) (0.10.0)\n",
            "Requirement already satisfied: pyparsing!=2.0.4,!=2.1.2,!=2.1.6,>=2.0.1 in /usr/local/lib/python3.7/dist-packages (from matplotlib->filterpy) (2.4.7)\n",
            "Requirement already satisfied: six in /usr/local/lib/python3.7/dist-packages (from cycler>=0.10->matplotlib->filterpy) (1.15.0)\n"
          ]
        }
      ]
    },
    {
      "cell_type": "markdown",
      "metadata": {
        "id": "MBsSqDlC3enA"
      },
      "source": [
        "実行前にGPUにランタイムを変更する"
      ]
    },
    {
      "cell_type": "code",
      "metadata": {
        "id": "nV8M5v2g0vRu",
        "outputId": "23532396-2a30-4758-e370-903f99db8126",
        "colab": {
          "base_uri": "https://localhost:8080/"
        }
      },
      "source": [
        "!python predict_video.py --input_video_path=VideoInput/video_input3.mp4 --output_video_path=VideoOutput/output_preshot1.mp4 --minimap=1 --bounce=1"
      ],
      "execution_count": 3,
      "outputs": [
        {
          "output_type": "stream",
          "name": "stdout",
          "text": [
            "fps : 30\n",
            "2021-10-09 22:56:31.348929: I tensorflow/stream_executor/cuda/cuda_gpu_executor.cc:937] successful NUMA node read from SysFS had negative value (-1), but there must be at least one NUMA node, so returning NUMA node zero\n",
            "2021-10-09 22:56:31.362587: I tensorflow/stream_executor/cuda/cuda_gpu_executor.cc:937] successful NUMA node read from SysFS had negative value (-1), but there must be at least one NUMA node, so returning NUMA node zero\n",
            "2021-10-09 22:56:31.363427: I tensorflow/stream_executor/cuda/cuda_gpu_executor.cc:937] successful NUMA node read from SysFS had negative value (-1), but there must be at least one NUMA node, so returning NUMA node zero\n",
            "2021-10-09 22:56:31.364816: I tensorflow/stream_executor/cuda/cuda_gpu_executor.cc:937] successful NUMA node read from SysFS had negative value (-1), but there must be at least one NUMA node, so returning NUMA node zero\n",
            "2021-10-09 22:56:31.365692: I tensorflow/stream_executor/cuda/cuda_gpu_executor.cc:937] successful NUMA node read from SysFS had negative value (-1), but there must be at least one NUMA node, so returning NUMA node zero\n",
            "2021-10-09 22:56:31.366531: I tensorflow/stream_executor/cuda/cuda_gpu_executor.cc:937] successful NUMA node read from SysFS had negative value (-1), but there must be at least one NUMA node, so returning NUMA node zero\n",
            "2021-10-09 22:56:34.041933: I tensorflow/stream_executor/cuda/cuda_gpu_executor.cc:937] successful NUMA node read from SysFS had negative value (-1), but there must be at least one NUMA node, so returning NUMA node zero\n",
            "2021-10-09 22:56:34.042764: I tensorflow/stream_executor/cuda/cuda_gpu_executor.cc:937] successful NUMA node read from SysFS had negative value (-1), but there must be at least one NUMA node, so returning NUMA node zero\n",
            "2021-10-09 22:56:34.043530: I tensorflow/stream_executor/cuda/cuda_gpu_executor.cc:937] successful NUMA node read from SysFS had negative value (-1), but there must be at least one NUMA node, so returning NUMA node zero\n",
            "2021-10-09 22:56:34.044186: W tensorflow/core/common_runtime/gpu/gpu_bfc_allocator.cc:39] Overriding allow_growth setting because the TF_FORCE_GPU_ALLOW_GROWTH environment variable is set. Original config value was 0.\n",
            "2021-10-09 22:56:34.044273: I tensorflow/core/common_runtime/gpu/gpu_device.cc:1510] Created device /job:localhost/replica:0/task:0/device:GPU:0 with 10386 MB memory:  -> device: 0, name: Tesla K80, pci bus id: 0000:00:04.0, compute capability: 3.7\n",
            "layer24 output shape: 256 360 640\n",
            "2021-10-09 22:56:34.477334: W tensorflow/core/util/tensor_slice_reader.cc:95] Could not open WeightsTracknet/model.3: Data loss: not an sstable (bad magic number): perhaps your file is in a different file format and you need to use a different restore operator?\n",
            "Using device cuda\n",
            "Detecting the court and the players...\n",
            "/usr/local/lib/python3.7/dist-packages/torch/nn/functional.py:718: UserWarning: Named tensors and all their associated APIs are an experimental feature and subject to change. Please do not use them for anything important until they are released as stable. (Triggered internally at  /pytorch/c10/core/TensorImpl.h:1156.)\n",
            "  return torch.max_pool2d(input, kernel_size, stride, padding, dilation, ceil_mode)\n",
            "BOXES  [array([1014.6489,  625.9298, 1083.3445,  844.5138], dtype=float32)]\n",
            "BIGGEST  [1015.  626. 1083.  845.]\n",
            "Finished!\n",
            "Tracking the ball: 2.15\n",
            "2021-10-09 23:02:26.317244: I tensorflow/compiler/mlir/mlir_graph_optimization_pass.cc:185] None of the MLIR Optimization Passes are enabled (registered 2)\n",
            "2021-10-09 23:02:26.946880: I tensorflow/stream_executor/cuda/cuda_dnn.cc:369] Loaded cuDNN version 8005\n",
            "2021-10-09 23:02:32.890401: W tensorflow/core/framework/cpu_allocator_impl.cc:80] Allocation of 235929600 exceeds 10% of free system memory.\n",
            "Tracking the ball: 3.23\n",
            "2021-10-09 23:02:37.157298: W tensorflow/core/framework/cpu_allocator_impl.cc:80] Allocation of 235929600 exceeds 10% of free system memory.\n",
            "Tracking the ball: 4.3\n",
            "2021-10-09 23:02:37.847160: W tensorflow/core/framework/cpu_allocator_impl.cc:80] Allocation of 235929600 exceeds 10% of free system memory.\n",
            "Tracking the ball: 5.38\n",
            "2021-10-09 23:02:38.461512: W tensorflow/core/framework/cpu_allocator_impl.cc:80] Allocation of 235929600 exceeds 10% of free system memory.\n",
            "Tracking the ball: 6.45\n",
            "2021-10-09 23:02:39.245815: W tensorflow/core/framework/cpu_allocator_impl.cc:80] Allocation of 235929600 exceeds 10% of free system memory.\n",
            "Tracking the ball: 7.53\n",
            "Tracking the ball: 8.6\n",
            "Tracking the ball: 9.68\n",
            "Tracking the ball: 10.75\n",
            "Tracking the ball: 11.83\n",
            "Tracking the ball: 12.9\n",
            "Tracking the ball: 13.98\n",
            "Tracking the ball: 15.05\n",
            "Tracking the ball: 16.13\n",
            "Tracking the ball: 17.2\n",
            "Tracking the ball: 18.28\n",
            "Tracking the ball: 19.35\n",
            "Tracking the ball: 20.43\n",
            "Tracking the ball: 21.51\n",
            "Tracking the ball: 22.58\n",
            "Tracking the ball: 23.66\n",
            "Tracking the ball: 24.73\n",
            "Tracking the ball: 25.81\n",
            "Tracking the ball: 26.88\n",
            "Tracking the ball: 27.96\n",
            "Tracking the ball: 29.03\n",
            "Tracking the ball: 30.11\n",
            "Tracking the ball: 31.18\n",
            "Tracking the ball: 32.26\n",
            "Tracking the ball: 33.33\n",
            "Tracking the ball: 34.41\n",
            "Tracking the ball: 35.48\n",
            "Tracking the ball: 36.56\n",
            "Tracking the ball: 37.63\n",
            "Tracking the ball: 38.71\n",
            "Tracking the ball: 39.78\n",
            "Tracking the ball: 40.86\n",
            "Tracking the ball: 41.94\n",
            "Tracking the ball: 43.01\n",
            "Tracking the ball: 44.09\n",
            "Tracking the ball: 45.16\n",
            "Tracking the ball: 46.24\n",
            "Tracking the ball: 47.31\n",
            "Tracking the ball: 48.39\n",
            "Tracking the ball: 49.46\n",
            "Tracking the ball: 50.54\n",
            "Tracking the ball: 51.61\n",
            "Tracking the ball: 52.69\n",
            "Tracking the ball: 53.76\n",
            "Tracking the ball: 54.84\n",
            "Tracking the ball: 55.91\n",
            "Tracking the ball: 56.99\n",
            "Tracking the ball: 58.06\n",
            "Tracking the ball: 59.14\n",
            "Tracking the ball: 60.22\n",
            "Tracking the ball: 61.29\n",
            "Tracking the ball: 62.37\n",
            "Tracking the ball: 63.44\n",
            "Tracking the ball: 64.52\n",
            "Tracking the ball: 65.59\n",
            "Tracking the ball: 66.67\n",
            "Tracking the ball: 67.74\n",
            "Tracking the ball: 68.82\n",
            "Tracking the ball: 69.89\n",
            "Tracking the ball: 70.97\n",
            "Tracking the ball: 72.04\n",
            "Tracking the ball: 73.12\n",
            "Tracking the ball: 74.19\n",
            "Tracking the ball: 75.27\n",
            "Tracking the ball: 76.34\n",
            "Tracking the ball: 77.42\n",
            "Tracking the ball: 78.49\n",
            "Tracking the ball: 79.57\n",
            "Tracking the ball: 80.65\n",
            "Tracking the ball: 81.72\n",
            "Tracking the ball: 82.8\n",
            "Tracking the ball: 83.87\n",
            "Tracking the ball: 84.95\n",
            "Tracking the ball: 86.02\n",
            "Tracking the ball: 87.1\n",
            "Tracking the ball: 88.17\n",
            "Tracking the ball: 89.25\n",
            "Tracking the ball: 90.32\n",
            "Tracking the ball: 91.4\n",
            "Tracking the ball: 92.47\n",
            "Tracking the ball: 93.55\n",
            "Tracking the ball: 94.62\n",
            "Tracking the ball: 95.7\n",
            "Tracking the ball: 96.77\n",
            "Tracking the ball: 97.85\n",
            "Tracking the ball: 98.92\n",
            "game  30\n",
            "Adding the mini-map...\n",
            "OpenCV: FFMPEG: tag 0x44495658/'XVID' is not supported with codec id 12 and format 'mp4 / MP4 (MPEG-4 Part 14)'\n",
            "OpenCV: FFMPEG: fallback to use tag 0x7634706d/'mp4v'\n",
            "minimap  30\n",
            "/usr/local/lib/python3.7/dist-packages/sklearn/base.py:333: UserWarning: Trying to unpickle estimator DecisionTreeClassifier from version 0.24.2 when using version 1.0. This might lead to breaking code or invalid results. Use at your own risk. For more info please refer to:\n",
            "https://scikit-learn.org/stable/modules/model_persistence.html#security-maintainability-limitations\n",
            "  UserWarning,\n",
            "/usr/local/lib/python3.7/dist-packages/sklearn/base.py:333: UserWarning: Trying to unpickle estimator Pipeline from version 0.24.2 when using version 1.0. This might lead to breaking code or invalid results. Use at your own risk. For more info please refer to:\n",
            "https://scikit-learn.org/stable/modules/model_persistence.html#security-maintainability-limitations\n",
            "  UserWarning,\n",
            "30\n",
            "93\n"
          ]
        }
      ]
    }
  ]
}