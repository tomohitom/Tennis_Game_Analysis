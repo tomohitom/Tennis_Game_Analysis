{
  "nbformat": 4,
  "nbformat_minor": 0,
  "metadata": {
    "colab": {
      "name": "Untitled0.ipynb",
      "provenance": [],
      "mount_file_id": "https://github.com/tomohitom/Tennis_Game_Analysis/blob/main/TennisVideoAnalysis.ipynb",
      "authorship_tag": "ABX9TyMPmffm9md6p57DGmspLq0u",
      "include_colab_link": true
    },
    "kernelspec": {
      "name": "python3",
      "display_name": "Python 3"
    },
    "language_info": {
      "name": "python"
    },
    "accelerator": "GPU"
  },
  "cells": [
    {
      "cell_type": "markdown",
      "metadata": {
        "id": "view-in-github",
        "colab_type": "text"
      },
      "source": [
        "<a href=\"https://colab.research.google.com/github/tomohitom/Tennis_Game_Analysis/blob/main/TennisVideoAnalysis.ipynb\" target=\"_parent\"><img src=\"https://colab.research.google.com/assets/colab-badge.svg\" alt=\"Open In Colab\"/></a>"
      ]
    },
    {
      "cell_type": "code",
      "metadata": {
        "colab": {
          "base_uri": "https://localhost:8080/"
        },
        "id": "XXyhXE2UyVv5",
        "outputId": "7fb1b5c7-bb0f-4479-8b86-8efc86308e2f"
      },
      "source": [
        "%cd /content/drive/MyDrive/tennis-tracking"
      ],
      "execution_count": 1,
      "outputs": [
        {
          "output_type": "stream",
          "name": "stdout",
          "text": [
            "/content/drive/MyDrive/tennis-tracking\n"
          ]
        }
      ]
    },
    {
      "cell_type": "code",
      "metadata": {
        "id": "zjwEELNi7pcI",
        "colab": {
          "base_uri": "https://localhost:8080/"
        },
        "outputId": "a0ea277c-a298-4811-b26f-e017d1f02dce"
      },
      "source": [
        "!pip install sktime\n",
        "!pip install filterpy"
      ],
      "execution_count": 2,
      "outputs": [
        {
          "output_type": "stream",
          "name": "stdout",
          "text": [
            "Requirement already satisfied: sktime in /usr/local/lib/python3.7/dist-packages (0.8.0)\n",
            "Requirement already satisfied: statsmodels>=0.12.1 in /usr/local/lib/python3.7/dist-packages (from sktime) (0.13.0)\n",
            "Requirement already satisfied: numpy>=1.19.3 in /usr/local/lib/python3.7/dist-packages (from sktime) (1.19.5)\n",
            "Requirement already satisfied: pandas>=1.1.0 in /usr/local/lib/python3.7/dist-packages (from sktime) (1.1.5)\n",
            "Requirement already satisfied: wheel in /usr/local/lib/python3.7/dist-packages (from sktime) (0.37.0)\n",
            "Requirement already satisfied: scikit-learn>=0.24.0 in /usr/local/lib/python3.7/dist-packages (from sktime) (1.0)\n",
            "Requirement already satisfied: numba>=0.53 in /usr/local/lib/python3.7/dist-packages (from sktime) (0.54.1)\n",
            "Requirement already satisfied: llvmlite<0.38,>=0.37.0rc1 in /usr/local/lib/python3.7/dist-packages (from numba>=0.53->sktime) (0.37.0)\n",
            "Requirement already satisfied: setuptools in /usr/local/lib/python3.7/dist-packages (from numba>=0.53->sktime) (57.4.0)\n",
            "Requirement already satisfied: pytz>=2017.2 in /usr/local/lib/python3.7/dist-packages (from pandas>=1.1.0->sktime) (2018.9)\n",
            "Requirement already satisfied: python-dateutil>=2.7.3 in /usr/local/lib/python3.7/dist-packages (from pandas>=1.1.0->sktime) (2.8.2)\n",
            "Requirement already satisfied: six>=1.5 in /usr/local/lib/python3.7/dist-packages (from python-dateutil>=2.7.3->pandas>=1.1.0->sktime) (1.15.0)\n",
            "Requirement already satisfied: threadpoolctl>=2.0.0 in /usr/local/lib/python3.7/dist-packages (from scikit-learn>=0.24.0->sktime) (3.0.0)\n",
            "Requirement already satisfied: joblib>=0.11 in /usr/local/lib/python3.7/dist-packages (from scikit-learn>=0.24.0->sktime) (1.0.1)\n",
            "Requirement already satisfied: scipy>=1.1.0 in /usr/local/lib/python3.7/dist-packages (from scikit-learn>=0.24.0->sktime) (1.4.1)\n",
            "Requirement already satisfied: patsy>=0.5.2 in /usr/local/lib/python3.7/dist-packages (from statsmodels>=0.12.1->sktime) (0.5.2)\n",
            "Requirement already satisfied: filterpy in /usr/local/lib/python3.7/dist-packages (1.4.5)\n",
            "Requirement already satisfied: matplotlib in /usr/local/lib/python3.7/dist-packages (from filterpy) (3.2.2)\n",
            "Requirement already satisfied: numpy in /usr/local/lib/python3.7/dist-packages (from filterpy) (1.19.5)\n",
            "Requirement already satisfied: scipy in /usr/local/lib/python3.7/dist-packages (from filterpy) (1.4.1)\n",
            "Requirement already satisfied: kiwisolver>=1.0.1 in /usr/local/lib/python3.7/dist-packages (from matplotlib->filterpy) (1.3.2)\n",
            "Requirement already satisfied: pyparsing!=2.0.4,!=2.1.2,!=2.1.6,>=2.0.1 in /usr/local/lib/python3.7/dist-packages (from matplotlib->filterpy) (2.4.7)\n",
            "Requirement already satisfied: python-dateutil>=2.1 in /usr/local/lib/python3.7/dist-packages (from matplotlib->filterpy) (2.8.2)\n",
            "Requirement already satisfied: cycler>=0.10 in /usr/local/lib/python3.7/dist-packages (from matplotlib->filterpy) (0.10.0)\n",
            "Requirement already satisfied: six in /usr/local/lib/python3.7/dist-packages (from cycler>=0.10->matplotlib->filterpy) (1.15.0)\n"
          ]
        }
      ]
    },
    {
      "cell_type": "markdown",
      "metadata": {
        "id": "MBsSqDlC3enA"
      },
      "source": [
        "実行前にGPUにランタイムを変更する"
      ]
    },
    {
      "cell_type": "code",
      "metadata": {
        "id": "nV8M5v2g0vRu",
        "colab": {
          "base_uri": "https://localhost:8080/"
        },
        "outputId": "bff65a9c-a987-43db-fff2-d1f114232375"
      },
      "source": [
        "!python predict_video.py --input_video_path=VideoInput/2shot4.mp4 --output_video_path=VideoOutput/output_preshot1.mp4 --minimap=1 --bounce=1"
      ],
      "execution_count": 8,
      "outputs": [
        {
          "output_type": "stream",
          "name": "stdout",
          "text": [
            "fps : 30\n",
            "2021-10-10 06:59:18.361221: I tensorflow/stream_executor/cuda/cuda_gpu_executor.cc:937] successful NUMA node read from SysFS had negative value (-1), but there must be at least one NUMA node, so returning NUMA node zero\n",
            "2021-10-10 06:59:18.370430: I tensorflow/stream_executor/cuda/cuda_gpu_executor.cc:937] successful NUMA node read from SysFS had negative value (-1), but there must be at least one NUMA node, so returning NUMA node zero\n",
            "2021-10-10 06:59:18.371370: I tensorflow/stream_executor/cuda/cuda_gpu_executor.cc:937] successful NUMA node read from SysFS had negative value (-1), but there must be at least one NUMA node, so returning NUMA node zero\n",
            "2021-10-10 06:59:18.372507: I tensorflow/stream_executor/cuda/cuda_gpu_executor.cc:937] successful NUMA node read from SysFS had negative value (-1), but there must be at least one NUMA node, so returning NUMA node zero\n",
            "2021-10-10 06:59:18.373345: I tensorflow/stream_executor/cuda/cuda_gpu_executor.cc:937] successful NUMA node read from SysFS had negative value (-1), but there must be at least one NUMA node, so returning NUMA node zero\n",
            "2021-10-10 06:59:18.374198: I tensorflow/stream_executor/cuda/cuda_gpu_executor.cc:937] successful NUMA node read from SysFS had negative value (-1), but there must be at least one NUMA node, so returning NUMA node zero\n",
            "2021-10-10 06:59:21.022333: I tensorflow/stream_executor/cuda/cuda_gpu_executor.cc:937] successful NUMA node read from SysFS had negative value (-1), but there must be at least one NUMA node, so returning NUMA node zero\n",
            "2021-10-10 06:59:21.023281: I tensorflow/stream_executor/cuda/cuda_gpu_executor.cc:937] successful NUMA node read from SysFS had negative value (-1), but there must be at least one NUMA node, so returning NUMA node zero\n",
            "2021-10-10 06:59:21.024110: I tensorflow/stream_executor/cuda/cuda_gpu_executor.cc:937] successful NUMA node read from SysFS had negative value (-1), but there must be at least one NUMA node, so returning NUMA node zero\n",
            "2021-10-10 06:59:21.024794: W tensorflow/core/common_runtime/gpu/gpu_bfc_allocator.cc:39] Overriding allow_growth setting because the TF_FORCE_GPU_ALLOW_GROWTH environment variable is set. Original config value was 0.\n",
            "2021-10-10 06:59:21.024856: I tensorflow/core/common_runtime/gpu/gpu_device.cc:1510] Created device /job:localhost/replica:0/task:0/device:GPU:0 with 10386 MB memory:  -> device: 0, name: Tesla K80, pci bus id: 0000:00:04.0, compute capability: 3.7\n",
            "layer24 output shape: 256 360 640\n",
            "2021-10-10 06:59:21.437048: W tensorflow/core/util/tensor_slice_reader.cc:95] Could not open WeightsTracknet/model.3: Data loss: not an sstable (bad magic number): perhaps your file is in a different file format and you need to use a different restore operator?\n",
            "Using device cuda\n",
            "Detecting the court and the players...\n",
            "/usr/local/lib/python3.7/dist-packages/torch/nn/functional.py:718: UserWarning: Named tensors and all their associated APIs are an experimental feature and subject to change. Please do not use them for anything important until they are released as stable. (Triggered internally at  /pytorch/c10/core/TensorImpl.h:1156.)\n",
            "  return torch.max_pool2d(input, kernel_size, stride, padding, dilation, ceil_mode)\n",
            "BOXES  [array([690.4803 , 382.26495, 766.89465, 597.1953 ], dtype=float32)]\n",
            "BIGGEST  [690. 382. 767. 597.]\n",
            "Finished!\n",
            "Tracking the ball: 1.85\n",
            "2021-10-10 07:01:10.004265: I tensorflow/compiler/mlir/mlir_graph_optimization_pass.cc:185] None of the MLIR Optimization Passes are enabled (registered 2)\n",
            "2021-10-10 07:01:10.817321: I tensorflow/stream_executor/cuda/cuda_dnn.cc:369] Loaded cuDNN version 8005\n",
            "2021-10-10 07:01:16.851368: W tensorflow/core/framework/cpu_allocator_impl.cc:80] Allocation of 235929600 exceeds 10% of free system memory.\n",
            "Tracking the ball: 2.78\n",
            "2021-10-10 07:01:17.303535: W tensorflow/core/framework/cpu_allocator_impl.cc:80] Allocation of 235929600 exceeds 10% of free system memory.\n",
            "Tracking the ball: 3.7\n",
            "2021-10-10 07:01:18.070990: W tensorflow/core/framework/cpu_allocator_impl.cc:80] Allocation of 235929600 exceeds 10% of free system memory.\n",
            "Tracking the ball: 4.63\n",
            "2021-10-10 07:01:18.610212: W tensorflow/core/framework/cpu_allocator_impl.cc:80] Allocation of 235929600 exceeds 10% of free system memory.\n",
            "Tracking the ball: 5.56\n",
            "2021-10-10 07:01:19.366016: W tensorflow/core/framework/cpu_allocator_impl.cc:80] Allocation of 235929600 exceeds 10% of free system memory.\n",
            "Tracking the ball: 6.48\n",
            "Tracking the ball: 7.41\n",
            "Tracking the ball: 8.33\n",
            "Tracking the ball: 9.26\n",
            "Tracking the ball: 10.19\n",
            "Tracking the ball: 11.11\n",
            "Tracking the ball: 12.04\n",
            "Tracking the ball: 12.96\n",
            "Tracking the ball: 13.89\n",
            "Tracking the ball: 14.81\n",
            "Tracking the ball: 15.74\n",
            "Tracking the ball: 16.67\n",
            "Tracking the ball: 17.59\n",
            "Tracking the ball: 18.52\n",
            "Tracking the ball: 19.44\n",
            "Tracking the ball: 20.37\n",
            "Tracking the ball: 21.3\n",
            "Tracking the ball: 22.22\n",
            "Tracking the ball: 23.15\n",
            "Tracking the ball: 24.07\n",
            "Tracking the ball: 25.0\n",
            "Tracking the ball: 25.93\n",
            "Tracking the ball: 26.85\n",
            "Tracking the ball: 27.78\n",
            "Tracking the ball: 28.7\n",
            "Tracking the ball: 29.63\n",
            "Tracking the ball: 30.56\n",
            "Tracking the ball: 31.48\n",
            "Tracking the ball: 32.41\n",
            "Tracking the ball: 33.33\n",
            "Tracking the ball: 34.26\n",
            "Tracking the ball: 35.19\n",
            "Tracking the ball: 36.11\n",
            "Tracking the ball: 37.04\n",
            "Tracking the ball: 37.96\n",
            "Tracking the ball: 38.89\n",
            "Tracking the ball: 39.81\n",
            "Tracking the ball: 40.74\n",
            "Tracking the ball: 41.67\n",
            "Tracking the ball: 42.59\n",
            "Tracking the ball: 43.52\n",
            "Tracking the ball: 44.44\n",
            "Tracking the ball: 45.37\n",
            "Tracking the ball: 46.3\n",
            "Tracking the ball: 47.22\n",
            "Tracking the ball: 48.15\n",
            "Tracking the ball: 49.07\n",
            "Tracking the ball: 50.0\n",
            "Tracking the ball: 50.93\n",
            "Tracking the ball: 51.85\n",
            "Tracking the ball: 52.78\n",
            "Tracking the ball: 53.7\n",
            "Tracking the ball: 54.63\n",
            "Tracking the ball: 55.56\n",
            "Tracking the ball: 56.48\n",
            "Tracking the ball: 57.41\n",
            "Tracking the ball: 58.33\n",
            "Tracking the ball: 59.26\n",
            "Tracking the ball: 60.19\n",
            "Tracking the ball: 61.11\n",
            "Tracking the ball: 62.04\n",
            "Tracking the ball: 62.96\n",
            "Tracking the ball: 63.89\n",
            "Tracking the ball: 64.81\n",
            "Tracking the ball: 65.74\n",
            "Tracking the ball: 66.67\n",
            "Tracking the ball: 67.59\n",
            "Tracking the ball: 68.52\n",
            "Tracking the ball: 69.44\n",
            "Tracking the ball: 70.37\n",
            "Tracking the ball: 71.3\n",
            "Tracking the ball: 72.22\n",
            "Tracking the ball: 73.15\n",
            "Tracking the ball: 74.07\n",
            "Tracking the ball: 75.0\n",
            "Tracking the ball: 75.93\n",
            "Tracking the ball: 76.85\n",
            "Tracking the ball: 77.78\n",
            "Tracking the ball: 78.7\n",
            "Tracking the ball: 79.63\n",
            "Tracking the ball: 80.56\n",
            "Tracking the ball: 81.48\n",
            "Tracking the ball: 82.41\n",
            "Tracking the ball: 83.33\n",
            "Tracking the ball: 84.26\n",
            "Tracking the ball: 85.19\n",
            "Tracking the ball: 86.11\n",
            "Tracking the ball: 87.04\n",
            "Tracking the ball: 87.96\n",
            "Tracking the ball: 88.89\n",
            "Tracking the ball: 89.81\n",
            "Tracking the ball: 90.74\n",
            "Tracking the ball: 91.67\n",
            "Tracking the ball: 92.59\n",
            "Tracking the ball: 93.52\n",
            "Tracking the ball: 94.44\n",
            "Tracking the ball: 95.37\n",
            "Tracking the ball: 96.3\n",
            "Tracking the ball: 97.22\n",
            "Tracking the ball: 98.15\n",
            "Tracking the ball: 99.07\n",
            "/usr/local/lib/python3.7/dist-packages/sklearn/base.py:333: UserWarning: Trying to unpickle estimator DecisionTreeClassifier from version 0.24.2 when using version 1.0. This might lead to breaking code or invalid results. Use at your own risk. For more info please refer to:\n",
            "https://scikit-learn.org/stable/modules/model_persistence.html#security-maintainability-limitations\n",
            "  UserWarning,\n",
            "/usr/local/lib/python3.7/dist-packages/sklearn/base.py:333: UserWarning: Trying to unpickle estimator Pipeline from version 0.24.2 when using version 1.0. This might lead to breaking code or invalid results. Use at your own risk. For more info please refer to:\n",
            "https://scikit-learn.org/stable/modules/model_persistence.html#security-maintainability-limitations\n",
            "  UserWarning,\n",
            "30\n",
            "108\n",
            "game  30\n",
            "Adding the mini-map...\n",
            "OpenCV: FFMPEG: tag 0x44495658/'XVID' is not supported with codec id 12 and format 'mp4 / MP4 (MPEG-4 Part 14)'\n",
            "OpenCV: FFMPEG: fallback to use tag 0x7634706d/'mp4v'\n",
            "minimap  30\n"
          ]
        }
      ]
    }
  ]
}