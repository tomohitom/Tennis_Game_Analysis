{
  "nbformat": 4,
  "nbformat_minor": 0,
  "metadata": {
    "colab": {
      "name": "Untitled16.ipynb",
      "provenance": [],
      "collapsed_sections": [],
      "mount_file_id": "1f7U-_OT2ydVZH6FoD_yk7adIbM7qzjPT",
      "authorship_tag": "ABX9TyPfBL0/wmlCilH034NytAXf",
      "include_colab_link": true
    },
    "kernelspec": {
      "name": "python3",
      "display_name": "Python 3"
    },
    "language_info": {
      "name": "python"
    }
  },
  "cells": [
    {
      "cell_type": "markdown",
      "metadata": {
        "id": "view-in-github",
        "colab_type": "text"
      },
      "source": [
        "<a href=\"https://colab.research.google.com/github/tomohitom/Tennis_Game_Analysis/blob/master/run_pytorchvideo.ipynb\" target=\"_parent\"><img src=\"https://colab.research.google.com/assets/colab-badge.svg\" alt=\"Open In Colab\"/></a>"
      ]
    },
    {
      "cell_type": "code",
      "metadata": {
        "id": "KH0mlt4v1O_C"
      },
      "source": [
        "!pip install pytorchvideo\n",
        "!pip install pytorch_lightning"
      ],
      "execution_count": null,
      "outputs": []
    },
    {
      "cell_type": "markdown",
      "metadata": {
        "id": "D57ZIzoQsZcl"
      },
      "source": [
        "torch.utils.data.dataloader.DataLoader"
      ]
    },
    {
      "cell_type": "code",
      "metadata": {
        "colab": {
          "base_uri": "https://localhost:8080/"
        },
        "id": "Chm-TdDf1tk-",
        "outputId": "3ad35c70-6a5f-4db8-fcc0-859ba5349542"
      },
      "source": [
        "import pytorchvideo.transforms as transforms\n",
        "dir(transforms.transforms)"
      ],
      "execution_count": 4,
      "outputs": [
        {
          "output_type": "execute_result",
          "data": {
            "text/plain": [
              "['ApplyTransformToKey',\n",
              " 'Callable',\n",
              " 'Dict',\n",
              " 'RandomShortSideScale',\n",
              " 'RemoveKey',\n",
              " 'ShortSideScale',\n",
              " 'UniformCropVideo',\n",
              " 'UniformTemporalSubsample',\n",
              " '__builtins__',\n",
              " '__cached__',\n",
              " '__doc__',\n",
              " '__file__',\n",
              " '__loader__',\n",
              " '__name__',\n",
              " '__package__',\n",
              " '__spec__',\n",
              " 'pytorchvideo',\n",
              " 'torch']"
            ]
          },
          "metadata": {
            "tags": []
          },
          "execution_count": 4
        }
      ]
    },
    {
      "cell_type": "code",
      "metadata": {
        "colab": {
          "base_uri": "https://localhost:8080/"
        },
        "id": "YW81mBz51aGB",
        "outputId": "8765919d-b3f3-42d2-e5f9-701ae6be2091"
      },
      "source": [
        "!python3 /content/sample_data/pytorchvideo_tennis.py"
      ],
      "execution_count": 22,
      "outputs": [
        {
          "output_type": "stream",
          "text": [
            "GPU available: False, used: False\n",
            "TPU available: False, using: 0 TPU cores\n",
            "Traceback (most recent call last):\n",
            "  File \"/content/sample_data/pytorchvideo_tennis.py\", line 232, in <module>\n",
            "    train()\n",
            "  File \"/content/sample_data/pytorchvideo_tennis.py\", line 230, in train\n",
            "    trainer.fit(model, data_module.train_dataloader(), data_module.val_dataloader())\n",
            "  File \"/content/sample_data/pytorchvideo_tennis.py\", line 168, in train_dataloader\n",
            "    sampler = DistributedSampler if self.trainer.use_ddp else RandomSampler\n",
            "AttributeError: 'NoneType' object has no attribute 'use_ddp'\n"
          ],
          "name": "stdout"
        }
      ]
    },
    {
      "cell_type": "markdown",
      "metadata": {
        "id": "1zLH6m7Hi9DU"
      },
      "source": [
        "['_DataLoader__initialized', \n",
        "'_DataLoader__multiprocessing_context', \n",
        "'_IterableDataset_len_called', \n",
        "'__annotations__',\n",
        "'__class__', \n",
        "'__class_getitem__',\n",
        " '__delattr__', '__dict__', '__dir__', '__doc__', '__eq__', '__format__', '__ge__', '__getattribute__', '__gt__', '__hash__', '__init__', '__init_subclass__', '__iter__', '__le__', '__len__', '__lt__', '__module__', '__ne__', '__new__', '__orig_bases__', '__parameters__', '__reduce__', '__reduce_ex__', '__repr__', '__setattr__', '__sizeof__', '__slots__', '__str__', '__subclasshook__', '__weakref__', '_auto_collation', '_dataset_kind', '_get_iterator', '_index_sampler', '_iterator', 'batch_sampler', 'batch_size', 'check_worker_number_rationality', 'collate_fn', 'dataset', 'drop_last', 'generator', 'multiprocessing_context', 'num_workers', 'persistent_workers', 'pin_memory', 'prefetch_factor', 'sampler', 'timeout', 'worker_init_fn']"
      ]
    }
  ]
}