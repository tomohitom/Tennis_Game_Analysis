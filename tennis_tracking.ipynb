{
  "nbformat": 4,
  "nbformat_minor": 0,
  "metadata": {
    "colab": {
      "name": "tennis_tracking.ipynb",
      "provenance": [],
      "mount_file_id": "https://github.com/tomohitom/Tennis_Game_Analysis/blob/master/tennis_tracking.ipynb",
      "authorship_tag": "ABX9TyMPMqYoZc5rlM94hWzNsBgf",
      "include_colab_link": true
    },
    "kernelspec": {
      "name": "python3",
      "display_name": "Python 3"
    },
    "language_info": {
      "name": "python"
    }
  },
  "cells": [
    {
      "cell_type": "markdown",
      "metadata": {
        "id": "view-in-github",
        "colab_type": "text"
      },
      "source": [
        "<a href=\"https://colab.research.google.com/github/tomohitom/Tennis_Game_Analysis/blob/master/tennis_tracking.ipynb\" target=\"_parent\"><img src=\"https://colab.research.google.com/assets/colab-badge.svg\" alt=\"Open In Colab\"/></a>"
      ]
    },
    {
      "cell_type": "code",
      "metadata": {
        "id": "2I5APdVuU_Wv"
      },
      "source": [
        "movie_name = \"pre_shot1.mp4\""
      ],
      "execution_count": 1,
      "outputs": []
    },
    {
      "cell_type": "code",
      "metadata": {
        "colab": {
          "base_uri": "https://localhost:8080/"
        },
        "id": "_wGk3TS9VVmd",
        "outputId": "be6490fc-a597-4d02-e785-fe161eecc790"
      },
      "source": [
        "%cd drive/MyDrive/tennis_video_tracking_system"
      ],
      "execution_count": 2,
      "outputs": [
        {
          "output_type": "stream",
          "text": [
            "/content/drive/MyDrive/tennis_video_tracking_system\n"
          ],
          "name": "stdout"
        }
      ]
    },
    {
      "cell_type": "code",
      "metadata": {
        "colab": {
          "base_uri": "https://localhost:8080/"
        },
        "id": "tRMUsWN7YPQE",
        "outputId": "11566364-fbe2-478b-8e57-9b85eccb7268"
      },
      "source": [
        "import Calibration\n",
        "\n",
        "mask_binary = Calibration.initialize_background(movie_name)\n",
        "img = mask_binary[0]\n",
        "mask = Calibration.make_mask(img)"
      ],
      "execution_count": 3,
      "outputs": [
        {
          "output_type": "stream",
          "text": [
            "1.4 sec\n"
          ],
          "name": "stdout"
        }
      ]
    },
    {
      "cell_type": "code",
      "metadata": {
        "id": "2cmDBL_15XVo"
      },
      "source": [
        "import Openpose\n",
        "\n",
        "Openpose.run_openpose(movie_name)"
      ],
      "execution_count": null,
      "outputs": []
    },
    {
      "cell_type": "code",
      "metadata": {
        "id": "JgzGnWuDhsKD"
      },
      "source": [
        "from ball_tracking import run\n",
        "run(movie_name)"
      ],
      "execution_count": null,
      "outputs": []
    }
  ]
}